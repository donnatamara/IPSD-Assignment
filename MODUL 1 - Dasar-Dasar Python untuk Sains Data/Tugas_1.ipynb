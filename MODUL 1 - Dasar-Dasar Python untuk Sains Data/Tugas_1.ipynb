{
  "nbformat": 4,
  "nbformat_minor": 0,
  "metadata": {
    "colab": {
      "provenance": []
    },
    "kernelspec": {
      "name": "python3",
      "display_name": "Python 3"
    },
    "language_info": {
      "name": "python"
    }
  },
  "cells": [
    {
      "cell_type": "markdown",
      "source": [
        "### Soal 1: Memecahkan Masalah Unik dengan Loop dan If-Else"
      ],
      "metadata": {
        "id": "Nl75XlJp0M2V"
      }
    },
    {
      "cell_type": "markdown",
      "source": [
        "**Soal**: Buatlah program yang dapat menghasilkan pola berbentuk angka seperti di bawah ini, dengan syarat angka yang ditampilkan adalah hasil dari penjumlahan bilangan prima sebelumnya:\n",
        "```\n",
        "1\n",
        "2 3\n",
        "5 7 11\n",
        "13 17 19 23\n",
        "...\n",
        "```\n",
        "Jumlah angka pada setiap baris bertambah 1, dan bilangan yang ditampilkan adalah bilangan prima."
      ],
      "metadata": {
        "id": "Q-KSz-KJ12FK"
      }
    },
    {
      "cell_type": "code",
      "execution_count": 1,
      "metadata": {
        "colab": {
          "base_uri": "https://localhost:8080/"
        },
        "id": "t91kUZJ7knET",
        "outputId": "bf1e1282-d142-4ebb-8bc3-2793225db45b"
      },
      "outputs": [
        {
          "output_type": "stream",
          "name": "stdout",
          "text": [
            "Jumlah baris: 4\n",
            "1\n",
            "2 3 \n",
            "5 7 11 \n",
            "13 17 19 23 \n"
          ]
        }
      ],
      "source": [
        "# Memeriksa bilangan prima\n",
        "def bilangan_prima(num):\n",
        "    if num <= 1:\n",
        "        return False\n",
        "    for i in range(2, int(num**0.5) + 1):\n",
        "        if num % i == 0:\n",
        "            return False\n",
        "    return True\n",
        "\n",
        "# Mencetak pola bilangan prima\n",
        "def pola_bilangan_prima(baris):\n",
        "    prima = 2\n",
        "    for i in range(1, baris + 1):\n",
        "        baris_bilangan_prima = 0\n",
        "        if i == 1:\n",
        "          print(1)\n",
        "        else:\n",
        "            while baris_bilangan_prima < i:\n",
        "                 if bilangan_prima(prima):\n",
        "                    print(prima, end=\" \")\n",
        "                    baris_bilangan_prima += 1\n",
        "                 prima  += 1\n",
        "            print()\n",
        "\n",
        "# Pengguna memasukkan jumlah baris\n",
        "baris = int(input(\"Jumlah baris: \"))\n",
        "pola_bilangan_prima(baris)"
      ]
    },
    {
      "cell_type": "code",
      "source": [],
      "metadata": {
        "id": "BfFu9a4UU1Kv"
      },
      "execution_count": null,
      "outputs": []
    }
  ]
}