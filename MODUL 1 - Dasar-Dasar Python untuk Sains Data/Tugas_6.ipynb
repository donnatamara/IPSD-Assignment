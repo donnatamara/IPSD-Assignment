{
  "nbformat": 4,
  "nbformat_minor": 0,
  "metadata": {
    "colab": {
      "provenance": []
    },
    "kernelspec": {
      "name": "python3",
      "display_name": "Python 3"
    },
    "language_info": {
      "name": "python"
    }
  },
  "cells": [
    {
      "cell_type": "code",
      "execution_count": null,
      "metadata": {
        "id": "FEgqs8eDA6PE"
      },
      "outputs": [],
      "source": []
    },
    {
      "cell_type": "markdown",
      "source": [
        "### Soal 6: Rekursi yang Tidak Biasa"
      ],
      "metadata": {
        "id": "SWvde8ljBCvc"
      }
    },
    {
      "cell_type": "markdown",
      "source": [
        "**Soal**: Buat fungsi rekursif yang menerima input bilangan bulat `n` dan menghasilkan urutan bilangan seperti berikut ini:\n",
        "```\n",
        "Input: n = 4\n",
        "Output: 1, 1, 2, 6, 24\n",
        "```\n",
        "Fungsi ini harus menggunakan konsep rekursi untuk menghitung faktorial setiap angka hingga `n`."
      ],
      "metadata": {
        "id": "WDfpEtD9BLz1"
      }
    },
    {
      "cell_type": "code",
      "source": [
        "def faktorial(n):\n",
        "    # Basis kasus\n",
        "    if n == 0 or n == 1:\n",
        "        return 1\n",
        "    # Fungsi rekursi\n",
        "    return n * faktorial(n - 1)\n",
        "\n",
        "def urutan_faktorial(n):\n",
        "    # Membuat urutan faktorial dari 1 hingga n\n",
        "    return [faktorial(i) for i in range(n + 1)]\n",
        "\n",
        "# Pengguna memasukkan bilangan bulat n\n",
        "n = int(input(\"Input: n = \"))\n",
        "\n",
        "# Menghasilkan dan menampilkan hasil urutan faktorial dalam bentuk string\n",
        "hasil = urutan_faktorial(n)\n",
        "print(\"Output:\", \", \".join(map(str, hasil)))"
      ],
      "metadata": {
        "colab": {
          "base_uri": "https://localhost:8080/"
        },
        "id": "HaDFeUOaBK2c",
        "outputId": "4d2624c7-f634-4656-cac4-f4e4f75335fb"
      },
      "execution_count": 10,
      "outputs": [
        {
          "output_type": "stream",
          "name": "stdout",
          "text": [
            "Input: n = 4\n",
            "Output: 1, 1, 2, 6, 24\n"
          ]
        }
      ]
    }
  ]
}