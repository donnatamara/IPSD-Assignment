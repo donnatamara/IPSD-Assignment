{
  "nbformat": 4,
  "nbformat_minor": 0,
  "metadata": {
    "colab": {
      "provenance": []
    },
    "kernelspec": {
      "name": "python3",
      "display_name": "Python 3"
    },
    "language_info": {
      "name": "python"
    }
  },
  "cells": [
    {
      "cell_type": "markdown",
      "source": [
        "### Soal 7: Pemrograman dengan Algoritma Greedy"
      ],
      "metadata": {
        "id": "Whrh9KZeFgmw"
      }
    },
    {
      "cell_type": "markdown",
      "source": [
        "**Soal**: Buatlah program untuk memecahkan masalah \"minimum coin change\". Diberikan jumlah uang dan daftar nilai koin yang tersedia (misalnya, 1, 5, 10, 25), tentukan kombinasi minimum koin yang diperlukan untuk mencapai jumlah uang tersebut. Namun, program Anda harus bisa menangani koin-koin yang nilai dan jumlahnya ditentukan pengguna."
      ],
      "metadata": {
        "id": "yDnGhzFjFlgP"
      }
    },
    {
      "cell_type": "code",
      "source": [
        "def minimum_coin_change(jumlah_uang, koin):\n",
        "    # Inisialisasi array untuk menyimpan jumlah koin minimum untuk setiap nilai\n",
        "    dp = [float('inf')] * (jumlah_uang + 1)\n",
        "    dp[0] = 0\n",
        "\n",
        "    # Melakukan iterasi pada setiap koin\n",
        "    for a in koin:\n",
        "        for b in range(a, jumlah_uang + 1):\n",
        "            dp[b] = min(dp[b], dp[b - a] + 1)\n",
        "\n",
        "    # Mengembalikan hasil\n",
        "    if dp[jumlah_uang] == float('inf'):\n",
        "        return -1\n",
        "    else:\n",
        "        return dp[jumlah_uang]\n",
        "\n",
        "# Pengguna memasukkan jumlah uang\n",
        "jumlah_uang = int(input(\"Masukkan jumlah uang yang ingin dicapai: \"))\n",
        "koin_masukan = input(\"Masukkan nilai koin yang tersedia (pisahkan dengan koma): \")\n",
        "koin = list(map(int, koin_masukan.split(',')))\n",
        "\n",
        "# Menghitung jumlah koin minimum\n",
        "hasil = minimum_coin_change(jumlah_uang, koin)\n",
        "\n",
        "# Menampilkan hasil\n",
        "if hasil == -1:\n",
        "    print(\"Tidak ada kombinasi koin yang dapat mencapai jumlah uang tersebut.\")\n",
        "else:\n",
        "    print(f\"Kombinasi minimum koin yang diperlukan: {hasil} koin.\")"
      ],
      "metadata": {
        "colab": {
          "base_uri": "https://localhost:8080/"
        },
        "id": "TrGSmovWFkun",
        "outputId": "cc40ce12-9680-426a-e5a3-fd9608277848"
      },
      "execution_count": 1,
      "outputs": [
        {
          "output_type": "stream",
          "name": "stdout",
          "text": [
            "Masukkan jumlah uang yang ingin dicapai: 30000\n",
            "Masukkan nilai koin yang tersedia (pisahkan dengan koma): 1, 5, 10, 25\n",
            "Kombinasi minimum koin yang diperlukan: 1200 koin.\n"
          ]
        }
      ]
    }
  ]
}