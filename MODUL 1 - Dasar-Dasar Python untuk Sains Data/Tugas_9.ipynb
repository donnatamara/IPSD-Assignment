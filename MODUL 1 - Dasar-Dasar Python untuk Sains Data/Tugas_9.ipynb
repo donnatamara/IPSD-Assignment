{
  "nbformat": 4,
  "nbformat_minor": 0,
  "metadata": {
    "colab": {
      "provenance": []
    },
    "kernelspec": {
      "name": "python3",
      "display_name": "Python 3"
    },
    "language_info": {
      "name": "python"
    }
  },
  "cells": [
    {
      "cell_type": "code",
      "execution_count": null,
      "metadata": {
        "id": "5_Eco6lIKMbK"
      },
      "outputs": [],
      "source": []
    },
    {
      "cell_type": "markdown",
      "source": [
        "### Soal 9: Konsep Class dan Object-Oriented Programming"
      ],
      "metadata": {
        "id": "o4e5RTMyKOim"
      }
    },
    {
      "cell_type": "markdown",
      "source": [
        "**Soal**: Buat class bernama `Buku` yang memiliki atribut `judul`, `penulis`, dan `tahun_terbit`. Buat method dalam class untuk menampilkan informasi buku, serta method untuk menghitung usia buku berdasarkan tahun saat ini. Buatlah 3 objek dari class `Buku` dan tampilkan informasi serta usia masing-masing buku."
      ],
      "metadata": {
        "id": "KpSlAGUWKSKU"
      }
    },
    {
      "cell_type": "code",
      "source": [
        "from datetime import datetime\n",
        "\n",
        "# Membuat class bernama Buku\n",
        "class Buku:\n",
        "    def __init__(self, judul, penulis, tahun_terbit):\n",
        "        self.judul = judul\n",
        "        self.penulis = penulis\n",
        "        self.tahun_terbit = tahun_terbit\n",
        "\n",
        "    # Method untuk menampilkan informasi buku\n",
        "    def tampilkan_info(self):\n",
        "        print(f\"Judul: {self.judul}\")\n",
        "        print(f\"Penulis: {self.penulis}\")\n",
        "        print(f\"Tahun Terbit: {self.tahun_terbit}\")\n",
        "\n",
        "    # Method untuk menghitung usia buku\n",
        "    def hitung_usia(self):\n",
        "        tahun_sekarang = datetime.now().year\n",
        "        usia_buku = tahun_sekarang - self.tahun_terbit\n",
        "        return usia_buku\n",
        "\n",
        "# Membuat 3 objek dari class Buku\n",
        "buku1 = Buku(\"Laut Bercerita\", \"Leila S. Chudori\", 2017)\n",
        "buku2 = Buku(\"Cantik Itu Luka\", \"Eka Kurniawan\", 2002)\n",
        "buku3 = Buku(\"Filosofi Teras\", \"Henry Manampiring\", 2018)\n",
        "\n",
        "# Menampilkan informasi dan usia buku pertama\n",
        "buku1.tampilkan_info()\n",
        "print(f\"Usia Buku: {buku1.hitung_usia()} tahun\\n\")\n",
        "\n",
        "# Menampilkan informasi dan usia buku kedua\n",
        "buku2.tampilkan_info()\n",
        "print(f\"Usia Buku: {buku2.hitung_usia()} tahun\\n\")\n",
        "\n",
        "# Menampilkan informasi dan usia buku ketiga\n",
        "buku3.tampilkan_info()\n",
        "print(f\"Usia Buku: {buku3.hitung_usia()} tahun\\n\")"
      ],
      "metadata": {
        "colab": {
          "base_uri": "https://localhost:8080/"
        },
        "id": "gkGAyWjUKRhl",
        "outputId": "ee3e7834-1edf-4eef-b0bd-ef71465e3321"
      },
      "execution_count": 1,
      "outputs": [
        {
          "output_type": "stream",
          "name": "stdout",
          "text": [
            "Judul: Laut Bercerita\n",
            "Penulis: Leila S. Chudori\n",
            "Tahun Terbit: 2017\n",
            "Usia Buku: 7 tahun\n",
            "\n",
            "Judul: Cantik Itu Luka\n",
            "Penulis: Eka Kurniawan\n",
            "Tahun Terbit: 2002\n",
            "Usia Buku: 22 tahun\n",
            "\n",
            "Judul: Filosofi Teras\n",
            "Penulis: Henry Manampiring\n",
            "Tahun Terbit: 2018\n",
            "Usia Buku: 6 tahun\n",
            "\n"
          ]
        }
      ]
    }
  ]
}