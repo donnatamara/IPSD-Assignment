{
  "nbformat": 4,
  "nbformat_minor": 0,
  "metadata": {
    "colab": {
      "provenance": [],
      "authorship_tag": "ABX9TyP5dTtlc0CYuOmdDZ5n+YVP",
      "include_colab_link": true
    },
    "kernelspec": {
      "name": "python3",
      "display_name": "Python 3"
    },
    "language_info": {
      "name": "python"
    }
  },
  "cells": [
    {
      "cell_type": "markdown",
      "metadata": {
        "id": "view-in-github",
        "colab_type": "text"
      },
      "source": [
        "<a href=\"https://colab.research.google.com/github/donnatamara/IPSD-Assignment/blob/main/Guided_Modul_1.ipynb\" target=\"_parent\"><img src=\"https://colab.research.google.com/assets/colab-badge.svg\" alt=\"Open In Colab\"/></a>"
      ]
    },
    {
      "cell_type": "markdown",
      "source": [
        "Buat program yang menampilkan nama dan umur."
      ],
      "metadata": {
        "id": "uLSkIGToLwEU"
      }
    },
    {
      "cell_type": "code",
      "source": [
        "nama = \"Yanto\"\n",
        "umur = 38\n",
        "print(f\"Nama : {nama} \\nUmur : {umur}\")"
      ],
      "metadata": {
        "colab": {
          "base_uri": "https://localhost:8080/"
        },
        "id": "jQx45IjnLg4D",
        "outputId": "674c3572-26e8-4a18-bba8-5c7307c35683"
      },
      "execution_count": null,
      "outputs": [
        {
          "output_type": "stream",
          "name": "stdout",
          "text": [
            "Nama : Yanto \n",
            "Umur : 38\n"
          ]
        }
      ]
    },
    {
      "cell_type": "markdown",
      "source": [
        "Buat variabel untuk menyimpan nilai luas dan keliling lingkaran, hitung hasilnya."
      ],
      "metadata": {
        "id": "-t8EbRfGL00x"
      }
    },
    {
      "cell_type": "code",
      "source": [
        "from math import pi\n",
        "\n",
        "jari = 8\n",
        "luas = pi *jari**2\n",
        "keliling = 2*pi*jari\n",
        "print(f\"Luas Lingkaran : {luas} \\nKeliling Lingkaran : {keliling}\")"
      ],
      "metadata": {
        "colab": {
          "base_uri": "https://localhost:8080/"
        },
        "id": "gFf4QZMIL0ID",
        "outputId": "977599f1-bc4e-4331-9db5-6a8aee86bde9"
      },
      "execution_count": null,
      "outputs": [
        {
          "output_type": "stream",
          "name": "stdout",
          "text": [
            "Luas Lingkaran : 201.06192982974676 \n",
            "Keliling Lingkaran : 50.26548245743669\n"
          ]
        }
      ]
    },
    {
      "cell_type": "markdown",
      "source": [
        "Tampilkan tipe data dari variabel yang menyimpan angka dan teks."
      ],
      "metadata": {
        "id": "qu-oUe-QMN3I"
      }
    },
    {
      "cell_type": "code",
      "source": [
        "angka = 129\n",
        "teks = 'ini angka'\n",
        "print(f\"Tipe Data Angka : {type(angka)} \\nTipe Data Teks : {type(teks)}\")"
      ],
      "metadata": {
        "colab": {
          "base_uri": "https://localhost:8080/"
        },
        "id": "dombGU6ZMTPr",
        "outputId": "fa292747-e30f-478d-bea5-c0efe29b2932"
      },
      "execution_count": null,
      "outputs": [
        {
          "output_type": "stream",
          "name": "stdout",
          "text": [
            "Tipe Data Angka : <class 'int'> \n",
            "Tipe Data Teks : <class 'str'>\n"
          ]
        }
      ]
    },
    {
      "cell_type": "markdown",
      "source": [
        "Buat program yang mengubah nilai dari tipe integer menjadi float."
      ],
      "metadata": {
        "id": "Af_hPZfIMYs4"
      }
    },
    {
      "cell_type": "code",
      "source": [
        "nilai = 100\n",
        "print(f'nilai kamu adalah {nilai} dan tipe datanya adalah {type(nilai)}')\n",
        "nilai = float(nilai)\n",
        "print(f'nilai kamu adalah {nilai} dan tipe datanya adalah {type(nilai)}')"
      ],
      "metadata": {
        "colab": {
          "base_uri": "https://localhost:8080/"
        },
        "id": "vGDvPNDMMeDA",
        "outputId": "dc54cf11-0964-42d2-b227-1031c2d11c18"
      },
      "execution_count": null,
      "outputs": [
        {
          "output_type": "stream",
          "name": "stdout",
          "text": [
            "nilai kamu adalah 100 dan tipe datanya adalah <class 'int'>\n",
            "nilai kamu adalah 100.0 dan tipe datanya adalah <class 'float'>\n"
          ]
        }
      ]
    },
    {
      "cell_type": "markdown",
      "source": [
        "Buat program yang mengubah string menjadi integer dan sebaliknya."
      ],
      "metadata": {
        "id": "khDFRhNDNbvC"
      }
    },
    {
      "cell_type": "code",
      "source": [
        "a = \"123\"\n",
        "print(f\"Tipe Data a : {type(a)}\")\n",
        "a = int(a)\n",
        "print(f\"Tipe Data a : {type(a)}\")"
      ],
      "metadata": {
        "colab": {
          "base_uri": "https://localhost:8080/"
        },
        "id": "HJL45PmSNfyY",
        "outputId": "5faf70e4-15ba-463f-f14d-70358e2f9262"
      },
      "execution_count": null,
      "outputs": [
        {
          "output_type": "stream",
          "name": "stdout",
          "text": [
            "Tipe Data a : <class 'str'>\n",
            "Tipe Data a : <class 'int'>\n"
          ]
        }
      ]
    },
    {
      "cell_type": "markdown",
      "source": [
        "Buat program yang mengalikan string dengan angka."
      ],
      "metadata": {
        "id": "RGUrWpebNjzI"
      }
    },
    {
      "cell_type": "code",
      "source": [
        "text = \"ulang \"\n",
        "multiplied_text = text * 3\n",
        "print(multiplied_text)"
      ],
      "metadata": {
        "colab": {
          "base_uri": "https://localhost:8080/"
        },
        "id": "VnuTxR3ENn0p",
        "outputId": "2947f365-23a5-47f1-eaa1-088dc7d708a9"
      },
      "execution_count": null,
      "outputs": [
        {
          "output_type": "stream",
          "name": "stdout",
          "text": [
            "ulang ulang ulang \n"
          ]
        }
      ]
    },
    {
      "cell_type": "markdown",
      "source": [
        "Buat program yang memeriksa apakah angka adalah bilangan genap atau ganjil."
      ],
      "metadata": {
        "id": "kda8SFX2Nqj7"
      }
    },
    {
      "cell_type": "code",
      "execution_count": null,
      "metadata": {
        "colab": {
          "base_uri": "https://localhost:8080/"
        },
        "id": "wUcEZUIFphrV",
        "outputId": "0f447741-4253-4d19-c8f3-ad7e076e35f9"
      },
      "outputs": [
        {
          "output_type": "stream",
          "name": "stdout",
          "text": [
            "Ganjil\n"
          ]
        }
      ],
      "source": [
        "angka = 7\n",
        "\n",
        "if angka % 2 == 0:\n",
        "    print(\"Genap\")\n",
        "else:\n",
        "    print(\"Ganjil\")"
      ]
    },
    {
      "cell_type": "markdown",
      "source": [
        "Buat program yang memeriksa apakah sebuah nilai lebih besar dari 100."
      ],
      "metadata": {
        "id": "qp2pIG2COEQ1"
      }
    },
    {
      "cell_type": "code",
      "source": [
        "value = 150\n",
        "if value > 100:\n",
        "    print(\"lebih dari 100\")\n",
        "else:\n",
        "    print(\"100 atau kurang dari\")"
      ],
      "metadata": {
        "colab": {
          "base_uri": "https://localhost:8080/"
        },
        "id": "gUYiLLwON9Ti",
        "outputId": "52e484ab-e37a-4252-c889-66aaa025e7d6"
      },
      "execution_count": null,
      "outputs": [
        {
          "output_type": "stream",
          "name": "stdout",
          "text": [
            "lebih dari 100\n"
          ]
        }
      ]
    },
    {
      "cell_type": "markdown",
      "source": [
        "Buat program yang menerima input umut dan menampilkan kategori umur (anak-anak, remaja, dewasa)."
      ],
      "metadata": {
        "id": "JzC72SCwOLW0"
      }
    },
    {
      "cell_type": "code",
      "source": [
        "age = 16\n",
        "if age <= 12:\n",
        "    print(\"Anak-anak\")\n",
        "elif 13 <= age <= 17:\n",
        "    print(\"Remaja\")\n",
        "else:\n",
        "    print(\"Dewasa\")"
      ],
      "metadata": {
        "colab": {
          "base_uri": "https://localhost:8080/"
        },
        "id": "hLL9PHFhOVBc",
        "outputId": "18e44cae-6fc6-4ecb-9fca-dc66d74f6de4"
      },
      "execution_count": null,
      "outputs": [
        {
          "output_type": "stream",
          "name": "stdout",
          "text": [
            "Remaja\n"
          ]
        }
      ]
    },
    {
      "cell_type": "markdown",
      "source": [
        "Buat program yang meminta input nama pengguna, jika nama benar tampilkan \"Selamat datang\"."
      ],
      "metadata": {
        "id": "m6ZKvtF4OXzy"
      }
    },
    {
      "cell_type": "code",
      "source": [
        "username = input(\"Enter username: \")\n",
        "if username == \"Jono\":\n",
        "    print(\"Selamat datang {username}\")\n",
        "elif username == \"Slamet\":\n",
        "    print(f\"Selamat datang {username}\")\n",
        "else:\n",
        "    print(\"Nama tidak dikenali\")"
      ],
      "metadata": {
        "colab": {
          "base_uri": "https://localhost:8080/"
        },
        "id": "kB-8KPe7Ohi3",
        "outputId": "eba98406-95d9-4357-85d4-d34af081a113"
      },
      "execution_count": null,
      "outputs": [
        {
          "output_type": "stream",
          "name": "stdout",
          "text": [
            "Enter username: Slamet\n",
            "Selamat datang Slamet\n"
          ]
        }
      ]
    },
    {
      "cell_type": "markdown",
      "source": [
        "Buat program yang menampilkan apakah suatu tahun adalah tahun kabisat."
      ],
      "metadata": {
        "id": "_QJIIEHpOnBq"
      }
    },
    {
      "cell_type": "code",
      "source": [
        "year = 2024\n",
        "if (year % 4 == 0 and year % 100 != 0) or (year % 400 == 0):\n",
        "    print(\"Tahun Kabisat\")\n",
        "else:\n",
        "    print(\"Bukan Tahun Kabisat\")"
      ],
      "metadata": {
        "colab": {
          "base_uri": "https://localhost:8080/"
        },
        "id": "D14LNRTMOr-b",
        "outputId": "96cfaf22-b19e-4c8d-e679-9b53c4e695e9"
      },
      "execution_count": null,
      "outputs": [
        {
          "output_type": "stream",
          "name": "stdout",
          "text": [
            "Tahun Kabisat\n"
          ]
        }
      ]
    },
    {
      "cell_type": "markdown",
      "source": [
        "Buat program untuk menetukan apakah seseorang boleh memberikan suara berdasarkan umurnya."
      ],
      "metadata": {
        "id": "dQuD_RWYO2Kr"
      }
    },
    {
      "cell_type": "code",
      "source": [
        "age = 18\n",
        "if age >= 18:\n",
        "    print(\"Boleh memberikan suara\")\n",
        "else:\n",
        "    print(\"Tidak boleh memberikan suara\")"
      ],
      "metadata": {
        "colab": {
          "base_uri": "https://localhost:8080/"
        },
        "id": "GUErdKRLO9rt",
        "outputId": "d6e41605-5011-4ffd-f27d-80d7de2438a9"
      },
      "execution_count": null,
      "outputs": [
        {
          "output_type": "stream",
          "name": "stdout",
          "text": [
            "Boleh memberikan suara\n"
          ]
        }
      ]
    },
    {
      "cell_type": "markdown",
      "source": [
        "Buat program yang meminta input tiga angka dan menampilkan angka terbesar."
      ],
      "metadata": {
        "id": "RsNLMcwpPAkp"
      }
    },
    {
      "cell_type": "code",
      "source": [
        "a, b, c = 3, 7, 5\n",
        "largest = max(a, b, c)\n",
        "print(f\"Nilai terbesar {largest}\")"
      ],
      "metadata": {
        "colab": {
          "base_uri": "https://localhost:8080/"
        },
        "id": "sdVk-i1MPHdP",
        "outputId": "ac550a2e-a79e-433e-abe2-0326890cf118"
      },
      "execution_count": null,
      "outputs": [
        {
          "output_type": "stream",
          "name": "stdout",
          "text": [
            "Nilai terbesar 7\n"
          ]
        }
      ]
    },
    {
      "cell_type": "markdown",
      "source": [
        "Buat program yang mengecek apakah dua string memiliki panjang yang sama."
      ],
      "metadata": {
        "id": "4nhUVuRfPLMu"
      }
    },
    {
      "cell_type": "code",
      "source": [
        "str1 = \"hello\"\n",
        "str2 = \"world\"\n",
        "if len(str1) == len(str2):\n",
        "    print(\"Memiliki Panjang yg sama\")\n",
        "else:\n",
        "    print(\"Memiliki panjang yg berbeda\")"
      ],
      "metadata": {
        "colab": {
          "base_uri": "https://localhost:8080/"
        },
        "id": "PuevpmJDPRh-",
        "outputId": "01a998f2-d371-49a8-9feb-395ed8a9dfd5"
      },
      "execution_count": null,
      "outputs": [
        {
          "output_type": "stream",
          "name": "stdout",
          "text": [
            "Memiliki Panjang yg sama\n"
          ]
        }
      ]
    },
    {
      "cell_type": "markdown",
      "source": [
        "Buat program yang menampilkan angka 1 sampai 10 menggunakan for loop."
      ],
      "metadata": {
        "id": "jM4Y1OCZPZaq"
      }
    },
    {
      "cell_type": "code",
      "source": [
        "for i in range(1, 11):\n",
        "    print(i)"
      ],
      "metadata": {
        "colab": {
          "base_uri": "https://localhost:8080/"
        },
        "id": "j-bd_pBFPgbi",
        "outputId": "8209fbdc-2dfd-40ae-acab-8760d596e8c3"
      },
      "execution_count": null,
      "outputs": [
        {
          "output_type": "stream",
          "name": "stdout",
          "text": [
            "1\n",
            "2\n",
            "3\n",
            "4\n",
            "5\n",
            "6\n",
            "7\n",
            "8\n",
            "9\n",
            "10\n"
          ]
        }
      ]
    },
    {
      "cell_type": "markdown",
      "source": [
        "Buat program yang menampilkan bilangan genap dari 2 sampai 20 menggunakan while loop."
      ],
      "metadata": {
        "id": "TP_T5xsXPjQF"
      }
    },
    {
      "cell_type": "code",
      "source": [
        "i = 2\n",
        "while i <= 20:\n",
        "    print(i)\n",
        "    i += 2"
      ],
      "metadata": {
        "colab": {
          "base_uri": "https://localhost:8080/"
        },
        "id": "fM7BaglDPqtk",
        "outputId": "11629ed5-4057-438b-a050-45329138cd9b"
      },
      "execution_count": null,
      "outputs": [
        {
          "output_type": "stream",
          "name": "stdout",
          "text": [
            "2\n",
            "4\n",
            "6\n",
            "8\n",
            "10\n",
            "12\n",
            "14\n",
            "16\n",
            "18\n",
            "20\n"
          ]
        }
      ]
    },
    {
      "cell_type": "markdown",
      "source": [
        "Buat program yang menerima input dan menampilkan kalimat tersebut sebanyak 5 kali."
      ],
      "metadata": {
        "id": "GThGp91LPtgZ"
      }
    },
    {
      "cell_type": "code",
      "source": [
        "sentence = input(\"Masukkan Kalimat: \")\n",
        "for _ in range(5):\n",
        "    print(sentence)"
      ],
      "metadata": {
        "colab": {
          "base_uri": "https://localhost:8080/"
        },
        "id": "rFtaxxaePzLi",
        "outputId": "22bebdfe-5dda-488f-9450-a4dd71453930"
      },
      "execution_count": null,
      "outputs": [
        {
          "output_type": "stream",
          "name": "stdout",
          "text": [
            "Masukkan Kalimat: yanto gembul\n",
            "yanto gembul\n",
            "yanto gembul\n",
            "yanto gembul\n",
            "yanto gembul\n",
            "yanto gembul\n"
          ]
        }
      ]
    },
    {
      "cell_type": "markdown",
      "source": [
        "Buat program untuk menghitung jumlah angka dari 1 sampai N."
      ],
      "metadata": {
        "id": "UZIYR09zP5mT"
      }
    },
    {
      "cell_type": "code",
      "source": [
        "N = 10\n",
        "total_sum = sum(range(1, N + 1))\n",
        "print(f\"Sum dari 1 to {N} adalah {total_sum}\")"
      ],
      "metadata": {
        "colab": {
          "base_uri": "https://localhost:8080/"
        },
        "id": "YD_95DJhP90M",
        "outputId": "f7f15f97-af32-4ccd-ff74-67fe75c977a8"
      },
      "execution_count": null,
      "outputs": [
        {
          "output_type": "stream",
          "name": "stdout",
          "text": [
            "Sum dari 1 to 10 adalah 55\n"
          ]
        }
      ]
    },
    {
      "cell_type": "markdown",
      "source": [
        "Buat program yang menggunakan break untuk keluar dari loop jika kondisi tertentu terpenuhi."
      ],
      "metadata": {
        "id": "PtB4lYNlQBnD"
      }
    },
    {
      "cell_type": "code",
      "source": [
        "for i in range(1, 11):\n",
        "    if i == 5:\n",
        "        break\n",
        "    print(i)"
      ],
      "metadata": {
        "colab": {
          "base_uri": "https://localhost:8080/"
        },
        "id": "D5f_wFUVQJNH",
        "outputId": "52ce3df4-6e9a-47cc-f76d-ff738c48fc1e"
      },
      "execution_count": null,
      "outputs": [
        {
          "output_type": "stream",
          "name": "stdout",
          "text": [
            "1\n",
            "2\n",
            "3\n",
            "4\n"
          ]
        }
      ]
    },
    {
      "cell_type": "markdown",
      "source": [
        "Buat program yang menggunakan continue untuk melewati iterasi tertentu dalam loop."
      ],
      "metadata": {
        "id": "H00E9LnTQM7G"
      }
    },
    {
      "cell_type": "code",
      "source": [
        "for i in range(1, 11):\n",
        "    if i == 5:\n",
        "        continue\n",
        "    print(i)"
      ],
      "metadata": {
        "colab": {
          "base_uri": "https://localhost:8080/"
        },
        "id": "F-B5s5r4QTJz",
        "outputId": "fbc2bb43-889e-4d1c-9dc9-aff26b5ae8c9"
      },
      "execution_count": null,
      "outputs": [
        {
          "output_type": "stream",
          "name": "stdout",
          "text": [
            "1\n",
            "2\n",
            "3\n",
            "4\n",
            "6\n",
            "7\n",
            "8\n",
            "9\n",
            "10\n"
          ]
        }
      ]
    },
    {
      "cell_type": "markdown",
      "source": [
        "Buat program yang menampilkan tabel perkalian 1 sampai 10."
      ],
      "metadata": {
        "id": "Rl25hY0ZQVw6"
      }
    },
    {
      "cell_type": "code",
      "source": [
        "for i in range(1, 11):\n",
        "    for j in range(1, 11):\n",
        "        print(f\"{i} x {j} = {i * j}\")\n",
        "    print()"
      ],
      "metadata": {
        "colab": {
          "base_uri": "https://localhost:8080/"
        },
        "id": "JWabdj_NQaHD",
        "outputId": "e3b9c84c-cdd1-42d4-c7a3-d583c5381309"
      },
      "execution_count": null,
      "outputs": [
        {
          "output_type": "stream",
          "name": "stdout",
          "text": [
            "1 x 1 = 1\n",
            "1 x 2 = 2\n",
            "1 x 3 = 3\n",
            "1 x 4 = 4\n",
            "1 x 5 = 5\n",
            "1 x 6 = 6\n",
            "1 x 7 = 7\n",
            "1 x 8 = 8\n",
            "1 x 9 = 9\n",
            "1 x 10 = 10\n",
            "\n",
            "2 x 1 = 2\n",
            "2 x 2 = 4\n",
            "2 x 3 = 6\n",
            "2 x 4 = 8\n",
            "2 x 5 = 10\n",
            "2 x 6 = 12\n",
            "2 x 7 = 14\n",
            "2 x 8 = 16\n",
            "2 x 9 = 18\n",
            "2 x 10 = 20\n",
            "\n",
            "3 x 1 = 3\n",
            "3 x 2 = 6\n",
            "3 x 3 = 9\n",
            "3 x 4 = 12\n",
            "3 x 5 = 15\n",
            "3 x 6 = 18\n",
            "3 x 7 = 21\n",
            "3 x 8 = 24\n",
            "3 x 9 = 27\n",
            "3 x 10 = 30\n",
            "\n",
            "4 x 1 = 4\n",
            "4 x 2 = 8\n",
            "4 x 3 = 12\n",
            "4 x 4 = 16\n",
            "4 x 5 = 20\n",
            "4 x 6 = 24\n",
            "4 x 7 = 28\n",
            "4 x 8 = 32\n",
            "4 x 9 = 36\n",
            "4 x 10 = 40\n",
            "\n",
            "5 x 1 = 5\n",
            "5 x 2 = 10\n",
            "5 x 3 = 15\n",
            "5 x 4 = 20\n",
            "5 x 5 = 25\n",
            "5 x 6 = 30\n",
            "5 x 7 = 35\n",
            "5 x 8 = 40\n",
            "5 x 9 = 45\n",
            "5 x 10 = 50\n",
            "\n",
            "6 x 1 = 6\n",
            "6 x 2 = 12\n",
            "6 x 3 = 18\n",
            "6 x 4 = 24\n",
            "6 x 5 = 30\n",
            "6 x 6 = 36\n",
            "6 x 7 = 42\n",
            "6 x 8 = 48\n",
            "6 x 9 = 54\n",
            "6 x 10 = 60\n",
            "\n",
            "7 x 1 = 7\n",
            "7 x 2 = 14\n",
            "7 x 3 = 21\n",
            "7 x 4 = 28\n",
            "7 x 5 = 35\n",
            "7 x 6 = 42\n",
            "7 x 7 = 49\n",
            "7 x 8 = 56\n",
            "7 x 9 = 63\n",
            "7 x 10 = 70\n",
            "\n",
            "8 x 1 = 8\n",
            "8 x 2 = 16\n",
            "8 x 3 = 24\n",
            "8 x 4 = 32\n",
            "8 x 5 = 40\n",
            "8 x 6 = 48\n",
            "8 x 7 = 56\n",
            "8 x 8 = 64\n",
            "8 x 9 = 72\n",
            "8 x 10 = 80\n",
            "\n",
            "9 x 1 = 9\n",
            "9 x 2 = 18\n",
            "9 x 3 = 27\n",
            "9 x 4 = 36\n",
            "9 x 5 = 45\n",
            "9 x 6 = 54\n",
            "9 x 7 = 63\n",
            "9 x 8 = 72\n",
            "9 x 9 = 81\n",
            "9 x 10 = 90\n",
            "\n",
            "10 x 1 = 10\n",
            "10 x 2 = 20\n",
            "10 x 3 = 30\n",
            "10 x 4 = 40\n",
            "10 x 5 = 50\n",
            "10 x 6 = 60\n",
            "10 x 7 = 70\n",
            "10 x 8 = 80\n",
            "10 x 9 = 90\n",
            "10 x 10 = 100\n",
            "\n"
          ]
        }
      ]
    },
    {
      "cell_type": "markdown",
      "source": [
        "Buat program yang menghitung jumlah bilangan ganjil antara dua bilangan yang diberikan."
      ],
      "metadata": {
        "id": "q8kxuHAxQevJ"
      }
    },
    {
      "cell_type": "code",
      "source": [
        "start = 1\n",
        "end = 10\n",
        "sum_odds = sum(i for i in range(start, end + 1) if i % 2 != 0)\n",
        "print(f\"Sum of odd numbers between {start} and {end} is {sum_odds}\")"
      ],
      "metadata": {
        "colab": {
          "base_uri": "https://localhost:8080/"
        },
        "id": "yW8FeNIyQlLk",
        "outputId": "ec63de58-fcfe-4845-d2db-5231d3bfb791"
      },
      "execution_count": null,
      "outputs": [
        {
          "output_type": "stream",
          "name": "stdout",
          "text": [
            "Sum of odd numbers between 1 and 10 is 25\n"
          ]
        }
      ]
    },
    {
      "cell_type": "markdown",
      "source": [
        "Buat fungsi untuk menghitung luas segitiga."
      ],
      "metadata": {
        "id": "5aRcI4MpQokh"
      }
    },
    {
      "cell_type": "code",
      "source": [
        "def triangle_area(base, height):\n",
        "    return 0.5 * base * height\n",
        "\n",
        "print(triangle_area(10, 5))"
      ],
      "metadata": {
        "colab": {
          "base_uri": "https://localhost:8080/"
        },
        "id": "He9KOtbdQsre",
        "outputId": "fba9293b-eb60-4fd8-f71d-f5614b736e67"
      },
      "execution_count": null,
      "outputs": [
        {
          "output_type": "stream",
          "name": "stdout",
          "text": [
            "25.0\n"
          ]
        }
      ]
    },
    {
      "cell_type": "markdown",
      "source": [
        "Buat fungsi yang menerima nama dan menampilkan \"Halo, [nama]\""
      ],
      "metadata": {
        "id": "SOVeLHouQvld"
      }
    },
    {
      "cell_type": "code",
      "source": [
        "def greet(name):\n",
        "    print(f\"Halo, {name}\")\n",
        "\n",
        "greet(\"Alice\")"
      ],
      "metadata": {
        "colab": {
          "base_uri": "https://localhost:8080/"
        },
        "id": "RbSyJIfqQ20g",
        "outputId": "feca17f4-bb5d-43fd-e947-dba1ae908603"
      },
      "execution_count": null,
      "outputs": [
        {
          "output_type": "stream",
          "name": "stdout",
          "text": [
            "Halo, Alice\n"
          ]
        }
      ]
    },
    {
      "cell_type": "markdown",
      "source": [
        "Buat fungsi untuk memeriksa apakah suatu angka adalah bilangan prima."
      ],
      "metadata": {
        "id": "TJ5QC1aMQ8_N"
      }
    },
    {
      "cell_type": "code",
      "source": [
        "def is_prime(n):\n",
        "    if n <= 1:\n",
        "        return False\n",
        "    for i in range(2, int(n**0.5) + 1):\n",
        "        if n % i == 0:\n",
        "            return False\n",
        "    return True\n",
        "\n",
        "print(is_prime(7))"
      ],
      "metadata": {
        "colab": {
          "base_uri": "https://localhost:8080/"
        },
        "id": "OvyzNBfcRCwO",
        "outputId": "1718807a-9fcf-4343-84b8-73008ec64ba2"
      },
      "execution_count": null,
      "outputs": [
        {
          "output_type": "stream",
          "name": "stdout",
          "text": [
            "True\n"
          ]
        }
      ]
    },
    {
      "cell_type": "markdown",
      "source": [
        "Buat fungsi yang mengembalikan nilai maksimum dari tiga angka."
      ],
      "metadata": {
        "id": "XJET0oU3RH1a"
      }
    },
    {
      "cell_type": "code",
      "source": [
        "def max_of_three(a, b, c):\n",
        "    return max(a, b, c)\n",
        "\n",
        "print(max_of_three(3, 7, 5))"
      ],
      "metadata": {
        "colab": {
          "base_uri": "https://localhost:8080/"
        },
        "id": "ivknr2o6RMlK",
        "outputId": "e8dcb5c7-6783-4e50-fa3a-72e61ae30b56"
      },
      "execution_count": null,
      "outputs": [
        {
          "output_type": "stream",
          "name": "stdout",
          "text": [
            "7\n"
          ]
        }
      ]
    },
    {
      "cell_type": "markdown",
      "source": [
        "Buat fungsi yang mengkonversi suhu dari Celcius ke Fahrenheit."
      ],
      "metadata": {
        "id": "qnyQsdV3RPMh"
      }
    },
    {
      "cell_type": "code",
      "source": [
        "def celsius_ke_fahrenheit(celsius):\n",
        "    return (celsius * 9/5) + 32\n",
        "\n",
        "print(celsius_ke_fahrenheit(30))"
      ],
      "metadata": {
        "colab": {
          "base_uri": "https://localhost:8080/"
        },
        "id": "dSswX2b8RUkf",
        "outputId": "7a784e61-cda9-4152-937b-c1ce6afd570a"
      },
      "execution_count": null,
      "outputs": [
        {
          "output_type": "stream",
          "name": "stdout",
          "text": [
            "86.0\n"
          ]
        }
      ]
    },
    {
      "cell_type": "markdown",
      "source": [
        "Buat fungsi yang menerima dua string dan menggabungkannya."
      ],
      "metadata": {
        "id": "GacqaMlvRXRc"
      }
    },
    {
      "cell_type": "code",
      "source": [
        "def gabung(str1, str2):\n",
        "    return str1 + str2\n",
        "\n",
        "print(gabung(\"Hello, \", \"World!\"))"
      ],
      "metadata": {
        "colab": {
          "base_uri": "https://localhost:8080/"
        },
        "id": "gf_CUfINRcXp",
        "outputId": "82cb060f-0de2-4223-bea3-46c1c0e88fc5"
      },
      "execution_count": null,
      "outputs": [
        {
          "output_type": "stream",
          "name": "stdout",
          "text": [
            "Hello, World!\n"
          ]
        }
      ]
    },
    {
      "cell_type": "markdown",
      "source": [
        "Buat fungsi rekursif untuk menghitung faktorial dari suatu angka."
      ],
      "metadata": {
        "id": "C3_oYo8uRe9j"
      }
    },
    {
      "cell_type": "code",
      "source": [
        "def factorial(n):\n",
        "    if n == 0:\n",
        "        return 1\n",
        "    else:\n",
        "        return n * factorial(n-1)\n",
        "\n",
        "print(factorial(5))"
      ],
      "metadata": {
        "colab": {
          "base_uri": "https://localhost:8080/"
        },
        "id": "nveiyTPDRjlu",
        "outputId": "82f238fc-e1f9-4118-ba84-7add8f026ad1"
      },
      "execution_count": null,
      "outputs": [
        {
          "output_type": "stream",
          "name": "stdout",
          "text": [
            "120\n"
          ]
        }
      ]
    },
    {
      "cell_type": "markdown",
      "source": [
        "Buat fungsi untuk menghitung total bilangan dalam sebuah list."
      ],
      "metadata": {
        "id": "RyfnBudrVlSa"
      }
    },
    {
      "cell_type": "code",
      "source": [
        "def sum_list(numbers):\n",
        "    return sum(numbers)\n",
        "\n",
        "print(sum_list([1, 2, 3, 4, 5]))"
      ],
      "metadata": {
        "colab": {
          "base_uri": "https://localhost:8080/"
        },
        "id": "x7blHZeuVp9I",
        "outputId": "86e9de13-eae6-4423-b8b8-676f4765a786"
      },
      "execution_count": null,
      "outputs": [
        {
          "output_type": "stream",
          "name": "stdout",
          "text": [
            "15\n"
          ]
        }
      ]
    },
    {
      "cell_type": "markdown",
      "source": [
        "Buat program yang membuat list dari 5 nama."
      ],
      "metadata": {
        "id": "MEjaA2IPVsiN"
      }
    },
    {
      "cell_type": "code",
      "source": [
        "names = [\"Alice\", \"Bob\", \"Charlie\", \"David\", \"Eve\"]"
      ],
      "metadata": {
        "id": "6ijSXymoVwHW"
      },
      "execution_count": null,
      "outputs": []
    },
    {
      "cell_type": "markdown",
      "source": [
        "Buat program untuk mengakses elemen pertama dan terakhir dari sebuah list."
      ],
      "metadata": {
        "id": "i81b_tS7VzJH"
      }
    },
    {
      "cell_type": "code",
      "source": [
        "print(names[0])\n",
        "print(names[-1])"
      ],
      "metadata": {
        "colab": {
          "base_uri": "https://localhost:8080/"
        },
        "id": "oOfLNE6ZV4rb",
        "outputId": "4d9f296a-cec1-4e16-f0d5-6cd5e2e7a01a"
      },
      "execution_count": null,
      "outputs": [
        {
          "output_type": "stream",
          "name": "stdout",
          "text": [
            "Alice\n",
            "Eve\n"
          ]
        }
      ]
    },
    {
      "cell_type": "markdown",
      "source": [
        "Buat program untuk menambahkan elemen baru ke list."
      ],
      "metadata": {
        "id": "3clsVLzHV7hB"
      }
    },
    {
      "cell_type": "code",
      "source": [
        "names.append(\"Frank\")\n",
        "print(names)"
      ],
      "metadata": {
        "colab": {
          "base_uri": "https://localhost:8080/"
        },
        "id": "c0K1NEHPV_Wf",
        "outputId": "baabb378-7ade-4f09-8c9b-8d7f33469685"
      },
      "execution_count": null,
      "outputs": [
        {
          "output_type": "stream",
          "name": "stdout",
          "text": [
            "['Alice', 'Bob', 'Charlie', 'David', 'Eve', 'Frank']\n"
          ]
        }
      ]
    },
    {
      "cell_type": "markdown",
      "source": [
        "Buat program untuk menghapus elemen tertentu dari list."
      ],
      "metadata": {
        "id": "WcoKIqwtWBqP"
      }
    },
    {
      "cell_type": "code",
      "source": [
        "names.remove(\"Charlie\")\n",
        "print(names)"
      ],
      "metadata": {
        "colab": {
          "base_uri": "https://localhost:8080/"
        },
        "id": "D-59jxjGWHWR",
        "outputId": "f5763543-5326-440c-a408-0f28b38d953b"
      },
      "execution_count": null,
      "outputs": [
        {
          "output_type": "stream",
          "name": "stdout",
          "text": [
            "['Alice', 'Bob', 'David', 'Eve', 'Frank']\n"
          ]
        }
      ]
    },
    {
      "cell_type": "markdown",
      "source": [
        "Buat program yang menghitung jumlah elemen dalam list."
      ],
      "metadata": {
        "id": "kcj99DNXWKak"
      }
    },
    {
      "cell_type": "code",
      "source": [
        "print(len(names))"
      ],
      "metadata": {
        "colab": {
          "base_uri": "https://localhost:8080/"
        },
        "id": "HWAn4p9QWOku",
        "outputId": "901c0c43-17e8-4140-b96f-2351140f2b18"
      },
      "execution_count": null,
      "outputs": [
        {
          "output_type": "stream",
          "name": "stdout",
          "text": [
            "5\n"
          ]
        }
      ]
    },
    {
      "cell_type": "markdown",
      "source": [
        "Buat program yang mengurutkan list angka secara ascending."
      ],
      "metadata": {
        "id": "hgdftttGWRjV"
      }
    },
    {
      "cell_type": "code",
      "source": [
        "numbers = [3, 1, 4, 1, 5]\n",
        "numbers.sort()\n",
        "print(numbers)"
      ],
      "metadata": {
        "colab": {
          "base_uri": "https://localhost:8080/"
        },
        "id": "tb4a1KtMWVwz",
        "outputId": "4fe50120-1800-40fd-9834-b835d4f1507f"
      },
      "execution_count": null,
      "outputs": [
        {
          "output_type": "stream",
          "name": "stdout",
          "text": [
            "[1, 1, 3, 4, 5]\n"
          ]
        }
      ]
    },
    {
      "cell_type": "markdown",
      "source": [
        "Buat program untuk membuat tuple yang berisi 5 bilangan."
      ],
      "metadata": {
        "id": "IYoVkYgSWbSK"
      }
    },
    {
      "cell_type": "code",
      "source": [
        "numbers_tuple = (1, 2, 3, 4, 5)"
      ],
      "metadata": {
        "id": "g4kmuB0aWfv3"
      },
      "execution_count": null,
      "outputs": []
    },
    {
      "cell_type": "markdown",
      "source": [
        "Buat program untuk memeriksa apakah elemen ada dalam tuple."
      ],
      "metadata": {
        "id": "1Yxgx-CpWilK"
      }
    },
    {
      "cell_type": "code",
      "source": [
        "print(3 in numbers_tuple)  # Output: True"
      ],
      "metadata": {
        "colab": {
          "base_uri": "https://localhost:8080/"
        },
        "id": "_CvL2P0tWoYd",
        "outputId": "39486143-0e62-43bb-ea7e-a85ac66fc2db"
      },
      "execution_count": null,
      "outputs": [
        {
          "output_type": "stream",
          "name": "stdout",
          "text": [
            "True\n"
          ]
        }
      ]
    },
    {
      "cell_type": "markdown",
      "source": [
        "Buat dictionary untuk menyimpan nama dan nilai siswa."
      ],
      "metadata": {
        "id": "i3uqw1ZNWqKw"
      }
    },
    {
      "cell_type": "code",
      "source": [
        "students = {\"Alice\": 85, \"Bob\": 90, \"Charlie\": 78}"
      ],
      "metadata": {
        "id": "UfSZAOeHWt_h"
      },
      "execution_count": null,
      "outputs": []
    },
    {
      "cell_type": "markdown",
      "source": [
        "Buat program untuk menampilkan nilai seorang siswa dari dictionary."
      ],
      "metadata": {
        "id": "giWyTlJtWwI7"
      }
    },
    {
      "cell_type": "code",
      "source": [
        "print(students[\"Alice\"])"
      ],
      "metadata": {
        "colab": {
          "base_uri": "https://localhost:8080/"
        },
        "id": "RXqoNqKVW3Rb",
        "outputId": "5bb11095-a1d6-4cf5-dfee-b12b18859b7a"
      },
      "execution_count": null,
      "outputs": [
        {
          "output_type": "stream",
          "name": "stdout",
          "text": [
            "85\n"
          ]
        }
      ]
    },
    {
      "cell_type": "markdown",
      "source": [
        "Buat program untuk menambahkan siswa baru ke dictionary."
      ],
      "metadata": {
        "id": "VRGNd6qRW6z0"
      }
    },
    {
      "cell_type": "code",
      "source": [
        "students[\"David\"] = 88\n",
        "print(students)"
      ],
      "metadata": {
        "colab": {
          "base_uri": "https://localhost:8080/"
        },
        "id": "vQNpG-9OW-0C",
        "outputId": "8d568570-be10-413f-c201-15fb65ad28a8"
      },
      "execution_count": null,
      "outputs": [
        {
          "output_type": "stream",
          "name": "stdout",
          "text": [
            "{'Alice': 85, 'Bob': 90, 'Charlie': 78, 'David': 88}\n"
          ]
        }
      ]
    },
    {
      "cell_type": "markdown",
      "source": [
        "Buat program yang menghapus entri dari dictionary berdasarkan nama siswa."
      ],
      "metadata": {
        "id": "qtshhUTLXBz_"
      }
    },
    {
      "cell_type": "code",
      "source": [
        "del students[\"Bob\"]\n",
        "print(students)"
      ],
      "metadata": {
        "colab": {
          "base_uri": "https://localhost:8080/"
        },
        "id": "Gcc6ejm1XKON",
        "outputId": "2b68f4c8-3226-4b7e-9726-01f0a2c90aed"
      },
      "execution_count": null,
      "outputs": [
        {
          "output_type": "stream",
          "name": "stdout",
          "text": [
            "{'Alice': 85, 'Charlie': 78, 'David': 88}\n"
          ]
        }
      ]
    },
    {
      "cell_type": "markdown",
      "source": [
        "Buat program untuk mengupdate nilai siswa dalam dictionary."
      ],
      "metadata": {
        "id": "hGgLhu91XNH7"
      }
    },
    {
      "cell_type": "code",
      "source": [
        "students[\"Alice\"] = 95\n",
        "print(students)"
      ],
      "metadata": {
        "colab": {
          "base_uri": "https://localhost:8080/"
        },
        "id": "i9ZZWgFXXQux",
        "outputId": "1cc96a0f-8297-4160-c8f6-27c141358721"
      },
      "execution_count": null,
      "outputs": [
        {
          "output_type": "stream",
          "name": "stdout",
          "text": [
            "{'Alice': 95, 'Charlie': 78, 'David': 88}\n"
          ]
        }
      ]
    },
    {
      "cell_type": "markdown",
      "source": [
        "Buat program yang menampilkan semua nama siswa dari dictionary."
      ],
      "metadata": {
        "id": "wLANOOQCXTKj"
      }
    },
    {
      "cell_type": "code",
      "source": [
        "print(students.keys())"
      ],
      "metadata": {
        "colab": {
          "base_uri": "https://localhost:8080/"
        },
        "id": "vVGu8Yw_XYkn",
        "outputId": "6bb70feb-bdc9-4d2d-b7af-db593885110e"
      },
      "execution_count": null,
      "outputs": [
        {
          "output_type": "stream",
          "name": "stdout",
          "text": [
            "dict_keys(['Alice', 'Charlie', 'David'])\n"
          ]
        }
      ]
    },
    {
      "cell_type": "markdown",
      "source": [
        "Buat program yang menampilkan semua nilai siswa dari dictionary."
      ],
      "metadata": {
        "id": "Www_ErRyXa6B"
      }
    },
    {
      "cell_type": "code",
      "source": [
        "print(students.values())"
      ],
      "metadata": {
        "colab": {
          "base_uri": "https://localhost:8080/"
        },
        "id": "bsZZHmN9Xe0b",
        "outputId": "8c1fe814-6d1f-4aab-f4a5-8ece2b6f49f1"
      },
      "execution_count": null,
      "outputs": [
        {
          "output_type": "stream",
          "name": "stdout",
          "text": [
            "dict_values([95, 78, 88])\n"
          ]
        }
      ]
    },
    {
      "cell_type": "markdown",
      "source": [
        "Buat program untuk mengubah nilai menjadi list dari sebuah dictionary."
      ],
      "metadata": {
        "id": "yCEn2zXVXh7U"
      }
    },
    {
      "cell_type": "code",
      "source": [
        "scores_list = list(students.values())\n",
        "print(scores_list)"
      ],
      "metadata": {
        "colab": {
          "base_uri": "https://localhost:8080/"
        },
        "id": "6_MaB6NdXmmw",
        "outputId": "d347d28d-f934-4398-fbcd-bb223fec88ef"
      },
      "execution_count": null,
      "outputs": [
        {
          "output_type": "stream",
          "name": "stdout",
          "text": [
            "[95, 78, 88]\n"
          ]
        }
      ]
    },
    {
      "cell_type": "markdown",
      "source": [
        "Buat program untuk membuat set yang berisi angka-angka unik."
      ],
      "metadata": {
        "id": "3QPvPrx_XowE"
      }
    },
    {
      "cell_type": "code",
      "source": [
        "unique_numbers = {1, 2, 3, 4, 5}"
      ],
      "metadata": {
        "id": "SL2DXMPkXtUg"
      },
      "execution_count": null,
      "outputs": []
    },
    {
      "cell_type": "markdown",
      "source": [
        "Buat program yang menambahkan elemen baru ke dalam set."
      ],
      "metadata": {
        "id": "_tYKx8lfXwBK"
      }
    },
    {
      "cell_type": "code",
      "source": [
        "unique_numbers.add(6)\n",
        "print(unique_numbers)"
      ],
      "metadata": {
        "colab": {
          "base_uri": "https://localhost:8080/"
        },
        "id": "YPLyRafaXz5t",
        "outputId": "d09e5aae-35da-4edd-af6f-66a0aeb0bf37"
      },
      "execution_count": null,
      "outputs": [
        {
          "output_type": "stream",
          "name": "stdout",
          "text": [
            "{1, 2, 3, 4, 5, 6}\n"
          ]
        }
      ]
    },
    {
      "cell_type": "markdown",
      "source": [
        "Buat program yang menampilkan irisan dari dua set."
      ],
      "metadata": {
        "id": "uIGVVIpzX2JB"
      }
    },
    {
      "cell_type": "code",
      "source": [
        "unique_numbers.remove(3)\n",
        "print(unique_numbers)"
      ],
      "metadata": {
        "colab": {
          "base_uri": "https://localhost:8080/"
        },
        "id": "-qrMSa3VX9ya",
        "outputId": "82fe725d-2901-4815-a9f4-922059834842"
      },
      "execution_count": null,
      "outputs": [
        {
          "output_type": "stream",
          "name": "stdout",
          "text": [
            "{1, 2, 4, 5, 6}\n"
          ]
        }
      ]
    },
    {
      "cell_type": "markdown",
      "source": [
        "Buat program yang menampilkan irisan dari dua set."
      ],
      "metadata": {
        "id": "X6ESSE87YBJX"
      }
    },
    {
      "cell_type": "code",
      "source": [
        "set1 = {1, 2, 3}\n",
        "set2 = {2, 3, 4}\n",
        "print(set1.intersection(set2))"
      ],
      "metadata": {
        "colab": {
          "base_uri": "https://localhost:8080/"
        },
        "id": "t7Voxq8YYFvl",
        "outputId": "c0045829-eb30-4b68-cc07-2b1f2547d817"
      },
      "execution_count": null,
      "outputs": [
        {
          "output_type": "stream",
          "name": "stdout",
          "text": [
            "{2, 3}\n"
          ]
        }
      ]
    },
    {
      "cell_type": "markdown",
      "source": [
        "Buat program yang menampilkan gabungan dari dua set."
      ],
      "metadata": {
        "id": "jVoEWVitYH8Q"
      }
    },
    {
      "cell_type": "code",
      "source": [
        "print(set1.union(set2))"
      ],
      "metadata": {
        "colab": {
          "base_uri": "https://localhost:8080/"
        },
        "id": "4R2n5nwIYM2X",
        "outputId": "f605a891-badb-45b1-ee47-d90d7c5a0f14"
      },
      "execution_count": null,
      "outputs": [
        {
          "output_type": "stream",
          "name": "stdout",
          "text": [
            "{1, 2, 3, 4}\n"
          ]
        }
      ]
    },
    {
      "cell_type": "markdown",
      "source": [
        "Buat program yang mengecek apakah satu set merupakan subset dari set lain."
      ],
      "metadata": {
        "id": "0EntB3zoYW2w"
      }
    },
    {
      "cell_type": "code",
      "source": [
        "print(set1.issubset(set2))"
      ],
      "metadata": {
        "colab": {
          "base_uri": "https://localhost:8080/"
        },
        "id": "uMSHeUVAYPLi",
        "outputId": "2af5bb4e-5893-48cf-85bf-8952a7c32363"
      },
      "execution_count": null,
      "outputs": [
        {
          "output_type": "stream",
          "name": "stdout",
          "text": [
            "False\n"
          ]
        }
      ]
    },
    {
      "cell_type": "markdown",
      "source": [
        "Buat program yang menampilkan perbedaan dari dua set."
      ],
      "metadata": {
        "id": "wXbj3JpBYdso"
      }
    },
    {
      "cell_type": "code",
      "source": [
        "print(set1.difference(set2))"
      ],
      "metadata": {
        "colab": {
          "base_uri": "https://localhost:8080/"
        },
        "id": "uoZjNnUEYhPx",
        "outputId": "d1fc4749-0314-40ff-888d-14caefd39d32"
      },
      "execution_count": null,
      "outputs": [
        {
          "output_type": "stream",
          "name": "stdout",
          "text": [
            "{1}\n"
          ]
        }
      ]
    },
    {
      "cell_type": "markdown",
      "source": [
        "Buat program untuk menghitung elemen unik dalam sebuah list menggunakan set."
      ],
      "metadata": {
        "id": "en15LzSRYk7E"
      }
    },
    {
      "cell_type": "code",
      "source": [
        "numbers = [1, 2, 2, 3, 4, 4, 4, 5]\n",
        "unique_numbers = set(numbers)\n",
        "print(len(unique_numbers))"
      ],
      "metadata": {
        "colab": {
          "base_uri": "https://localhost:8080/"
        },
        "id": "RCrTFFuuYsAR",
        "outputId": "1832ad81-7f24-48f8-aeb1-eb3f231bc37d"
      },
      "execution_count": null,
      "outputs": [
        {
          "output_type": "stream",
          "name": "stdout",
          "text": [
            "5\n"
          ]
        }
      ]
    },
    {
      "cell_type": "markdown",
      "source": [
        "Buat program yang membuat dan menulis teks ke dalam file."
      ],
      "metadata": {
        "id": "MvQxaeThYus1"
      }
    },
    {
      "cell_type": "code",
      "source": [
        "with open(\"example.txt\", \"w\") as file:\n",
        "    file.write(\"Hello, world!\")"
      ],
      "metadata": {
        "id": "iZAFZk55YyXs"
      },
      "execution_count": null,
      "outputs": []
    },
    {
      "cell_type": "markdown",
      "source": [
        "Buat program yang membaca isi dari file teks."
      ],
      "metadata": {
        "id": "cypZECQ0Y1Nc"
      }
    },
    {
      "cell_type": "code",
      "source": [
        "with open(\"example.txt\", \"r\") as file:\n",
        "    content = file.read()\n",
        "    print(content)"
      ],
      "metadata": {
        "colab": {
          "base_uri": "https://localhost:8080/"
        },
        "id": "cRUF9mCTY3-1",
        "outputId": "5a42a6a3-099e-433c-dab8-46c4f474027d"
      },
      "execution_count": null,
      "outputs": [
        {
          "output_type": "stream",
          "name": "stdout",
          "text": [
            "Hello, world!\n"
          ]
        }
      ]
    },
    {
      "cell_type": "markdown",
      "source": [
        "Buat program untuk menambahkan teks baru ke file yang sudah ada."
      ],
      "metadata": {
        "id": "IHZVOQqnY80S"
      }
    },
    {
      "cell_type": "code",
      "source": [
        "with open(\"example.txt\", \"a\") as file:\n",
        "    file.write(\"\\nNew line added.\")"
      ],
      "metadata": {
        "id": "TvxWDcLNZA5r"
      },
      "execution_count": null,
      "outputs": []
    },
    {
      "cell_type": "markdown",
      "source": [
        "Buat program yang menampilkan isi file baris per baris."
      ],
      "metadata": {
        "id": "Hamxhvp7ZDKA"
      }
    },
    {
      "cell_type": "code",
      "source": [
        "with open(\"example.txt\", \"r\") as file:\n",
        "    for line in file:\n",
        "        print(line, end=\"\")"
      ],
      "metadata": {
        "colab": {
          "base_uri": "https://localhost:8080/"
        },
        "id": "E83knpRqZGqH",
        "outputId": "f8da0a71-7abe-43ac-bbeb-b67eb5a6858c"
      },
      "execution_count": null,
      "outputs": [
        {
          "output_type": "stream",
          "name": "stdout",
          "text": [
            "Hello, world!\n",
            "New line added."
          ]
        }
      ]
    },
    {
      "cell_type": "markdown",
      "source": [
        "Buat program yang menghitung jumlah kata dalam sebuah file."
      ],
      "metadata": {
        "id": "euTIi_A8ZJ-l"
      }
    },
    {
      "cell_type": "code",
      "source": [
        "with open(\"example.txt\", \"r\") as file:\n",
        "    content = file.read()\n",
        "    word_count = len(content.split())\n",
        "    print(word_count)"
      ],
      "metadata": {
        "colab": {
          "base_uri": "https://localhost:8080/"
        },
        "id": "oiOQTse4ZNkW",
        "outputId": "1a6cdf99-8ab8-4c12-f102-45cda8ba5a38"
      },
      "execution_count": null,
      "outputs": [
        {
          "output_type": "stream",
          "name": "stdout",
          "text": [
            "5\n"
          ]
        }
      ]
    },
    {
      "cell_type": "markdown",
      "source": [
        "Buat program untuk menghapus file."
      ],
      "metadata": {
        "id": "dQ_G44RGZQEH"
      }
    },
    {
      "cell_type": "code",
      "source": [
        "import os\n",
        "os.remove(\"example.txt\")"
      ],
      "metadata": {
        "id": "6hj4Z7CrZTWa"
      },
      "execution_count": null,
      "outputs": []
    },
    {
      "cell_type": "markdown",
      "source": [
        "Buat program yang memeriksa apakah sebuah file ada atau tidak."
      ],
      "metadata": {
        "id": "Jl3DC-NbZV1x"
      }
    },
    {
      "cell_type": "code",
      "source": [
        "if os.path.exists(\"example.txt\"):\n",
        "    print(\"File exists\")\n",
        "else:\n",
        "    print(\"File does not exist\")"
      ],
      "metadata": {
        "colab": {
          "base_uri": "https://localhost:8080/"
        },
        "id": "OOTsw15NZZ8f",
        "outputId": "9b1ab6d4-f2d7-4dbe-d28a-01906a9a46a4"
      },
      "execution_count": null,
      "outputs": [
        {
          "output_type": "stream",
          "name": "stdout",
          "text": [
            "File does not exist\n"
          ]
        }
      ]
    },
    {
      "cell_type": "markdown",
      "source": [
        "Buat program yang meng-copy isi file ke file lain."
      ],
      "metadata": {
        "id": "EwLblJXyZcu8"
      }
    },
    {
      "cell_type": "code",
      "source": [
        "with open(\"example.txt\", \"w\") as file:\n",
        "    file.write(\"Hello, world!\")\n",
        "\n",
        "with open(\"example.txt\", \"r\") as src:\n",
        "    with open(\"copy.txt\", \"w\") as dst:\n",
        "        dst.write(src.read())"
      ],
      "metadata": {
        "id": "nwoqEfKYZgys"
      },
      "execution_count": null,
      "outputs": []
    },
    {
      "cell_type": "markdown",
      "source": [
        "Buat program untuk membuat list dari angka 1 sampai 10 menggunakan list somprehension."
      ],
      "metadata": {
        "id": "fMLGEOGnZjLY"
      }
    },
    {
      "cell_type": "code",
      "source": [
        "numbers = [x for x in range(1, 11)]\n",
        "print(numbers)"
      ],
      "metadata": {
        "colab": {
          "base_uri": "https://localhost:8080/"
        },
        "id": "tw5uAv6nZqXt",
        "outputId": "06a3d0e6-e36f-466f-8661-2d6adf157a57"
      },
      "execution_count": null,
      "outputs": [
        {
          "output_type": "stream",
          "name": "stdout",
          "text": [
            "[1, 2, 3, 4, 5, 6, 7, 8, 9, 10]\n"
          ]
        }
      ]
    },
    {
      "cell_type": "markdown",
      "source": [
        "Buat program untuk membuat list bilangan genap dari 1 sampai 20."
      ],
      "metadata": {
        "id": "6l4ZZ_gBZtTI"
      }
    },
    {
      "cell_type": "code",
      "source": [
        "evens = [x for x in range(1, 21) if x % 2 == 0]\n",
        "print(evens)"
      ],
      "metadata": {
        "colab": {
          "base_uri": "https://localhost:8080/"
        },
        "id": "dIOivetYZy13",
        "outputId": "ee6432fa-81d2-4ac8-9bdf-43eb4c7b3cee"
      },
      "execution_count": null,
      "outputs": [
        {
          "output_type": "stream",
          "name": "stdout",
          "text": [
            "[2, 4, 6, 8, 10, 12, 14, 16, 18, 20]\n"
          ]
        }
      ]
    },
    {
      "cell_type": "markdown",
      "source": [
        "Buat program untuk membuat list bilangan kuadrat dari 1 sampai 10."
      ],
      "metadata": {
        "id": "IFmifekCZ1h1"
      }
    },
    {
      "cell_type": "code",
      "source": [
        "squares = [x**2 for x in range(1, 11)]\n",
        "print(squares)"
      ],
      "metadata": {
        "colab": {
          "base_uri": "https://localhost:8080/"
        },
        "id": "aD14MudFZ6Dm",
        "outputId": "05a185ba-4a43-4b94-8b8d-f06c9572d60a"
      },
      "execution_count": null,
      "outputs": [
        {
          "output_type": "stream",
          "name": "stdout",
          "text": [
            "[1, 4, 9, 16, 25, 36, 49, 64, 81, 100]\n"
          ]
        }
      ]
    },
    {
      "cell_type": "markdown",
      "source": [
        "Buat program untuk mengubah setiap elemen dalam list menjadi huruf besar."
      ],
      "metadata": {
        "id": "MHmdyjA5Z84o"
      }
    },
    {
      "cell_type": "code",
      "source": [
        "words = [\"hello\", \"world\"]\n",
        "upper_words = [word.upper() for word in words]\n",
        "print(upper_words)"
      ],
      "metadata": {
        "colab": {
          "base_uri": "https://localhost:8080/"
        },
        "id": "sq1SBIwIaCX2",
        "outputId": "31e9b8df-90e5-491a-f9bd-db34f30f783e"
      },
      "execution_count": null,
      "outputs": [
        {
          "output_type": "stream",
          "name": "stdout",
          "text": [
            "['HELLO', 'WORLD']\n"
          ]
        }
      ]
    },
    {
      "cell_type": "markdown",
      "source": [
        "Buat program yang menyaring elemen dalam list jika lebih besar dari 5."
      ],
      "metadata": {
        "id": "kYjkcWbkaGwp"
      }
    },
    {
      "cell_type": "code",
      "source": [
        "numbers = [1, 2, 3, 6, 7, 8]\n",
        "filtered = [x for x in numbers if x > 5]\n",
        "print(filtered)"
      ],
      "metadata": {
        "colab": {
          "base_uri": "https://localhost:8080/"
        },
        "id": "aYPVcvD6aMxO",
        "outputId": "2fcad967-d406-4fa8-fbc2-4c79503e3a5e"
      },
      "execution_count": null,
      "outputs": [
        {
          "output_type": "stream",
          "name": "stdout",
          "text": [
            "[6, 7, 8]\n"
          ]
        }
      ]
    },
    {
      "cell_type": "markdown",
      "source": [
        "Buat program untuk membuat list huruf vokal dari string."
      ],
      "metadata": {
        "id": "ZrN2b3NfaPGo"
      }
    },
    {
      "cell_type": "code",
      "source": [
        "string = \"hello world\"\n",
        "vowels = [char for char in string if char in 'aeiou']\n",
        "print(vowels)"
      ],
      "metadata": {
        "colab": {
          "base_uri": "https://localhost:8080/"
        },
        "id": "byl-wO2eaUPn",
        "outputId": "e5531839-b0db-4b63-8800-3295e3bc3601"
      },
      "execution_count": null,
      "outputs": [
        {
          "output_type": "stream",
          "name": "stdout",
          "text": [
            "['e', 'o', 'o']\n"
          ]
        }
      ]
    },
    {
      "cell_type": "markdown",
      "source": [
        "Buat program yang menangkap kesalahan pembagian dengan nol."
      ],
      "metadata": {
        "id": "yrzPn5_waXmu"
      }
    },
    {
      "cell_type": "markdown",
      "source": [
        "# Exception"
      ],
      "metadata": {
        "id": "yl4O-h3draoS"
      }
    },
    {
      "cell_type": "code",
      "source": [
        "result = 10/0\n",
        "print(result)"
      ],
      "metadata": {
        "colab": {
          "base_uri": "https://localhost:8080/",
          "height": 158
        },
        "id": "85mMGx9laeh5",
        "outputId": "24ab7320-fa4b-4217-bb0b-38f086dc74b6"
      },
      "execution_count": null,
      "outputs": [
        {
          "output_type": "error",
          "ename": "ZeroDivisionError",
          "evalue": "division by zero",
          "traceback": [
            "\u001b[0;31m---------------------------------------------------------------------------\u001b[0m",
            "\u001b[0;31mZeroDivisionError\u001b[0m                         Traceback (most recent call last)",
            "\u001b[0;32m<ipython-input-40-7f977f09f2a0>\u001b[0m in \u001b[0;36m<cell line: 1>\u001b[0;34m()\u001b[0m\n\u001b[0;32m----> 1\u001b[0;31m \u001b[0mresult\u001b[0m \u001b[0;34m=\u001b[0m \u001b[0;36m10\u001b[0m\u001b[0;34m/\u001b[0m\u001b[0;36m0\u001b[0m\u001b[0;34m\u001b[0m\u001b[0;34m\u001b[0m\u001b[0m\n\u001b[0m\u001b[1;32m      2\u001b[0m \u001b[0mprint\u001b[0m\u001b[0;34m(\u001b[0m\u001b[0mresult\u001b[0m\u001b[0;34m)\u001b[0m\u001b[0;34m\u001b[0m\u001b[0;34m\u001b[0m\u001b[0m\n",
            "\u001b[0;31mZeroDivisionError\u001b[0m: division by zero"
          ]
        }
      ]
    },
    {
      "cell_type": "code",
      "source": [
        "try:\n",
        "    result = 10 / 0\n",
        "except ZeroDivisionError:\n",
        "    print(\"Division by zero is not allowed\")"
      ],
      "metadata": {
        "colab": {
          "base_uri": "https://localhost:8080/"
        },
        "id": "cYLsEtafry1m",
        "outputId": "43fe799c-8722-48a0-926c-ebe3271c3068"
      },
      "execution_count": null,
      "outputs": [
        {
          "output_type": "stream",
          "name": "stdout",
          "text": [
            "Division by zero is not allowed\n"
          ]
        }
      ]
    },
    {
      "cell_type": "markdown",
      "source": [
        "Buat program yang menangkap kesalahan input yang bukan angka."
      ],
      "metadata": {
        "id": "uVv7B4VFsbDr"
      }
    },
    {
      "cell_type": "code",
      "source": [
        "angka = 'ini angka'\n",
        "try:\n",
        "    angka = int(angka)\n",
        "except ValueError:\n",
        "    print(\"\")"
      ],
      "metadata": {
        "colab": {
          "base_uri": "https://localhost:8080/"
        },
        "id": "l782UdprsiEG",
        "outputId": "7e351bc8-43bf-426a-c964-5134c2245530"
      },
      "execution_count": null,
      "outputs": [
        {
          "output_type": "stream",
          "name": "stdout",
          "text": [
            "\n"
          ]
        }
      ]
    },
    {
      "cell_type": "code",
      "source": [
        "angka = 'ini angka'\n",
        "print(int(angka))"
      ],
      "metadata": {
        "colab": {
          "base_uri": "https://localhost:8080/",
          "height": 158
        },
        "id": "b5wTrtBfallt",
        "outputId": "c5d31d1b-5a31-4cf7-f8f8-5496e18d2b01"
      },
      "execution_count": null,
      "outputs": [
        {
          "output_type": "error",
          "ename": "ValueError",
          "evalue": "invalid literal for int() with base 10: 'ini angka'",
          "traceback": [
            "\u001b[0;31m---------------------------------------------------------------------------\u001b[0m",
            "\u001b[0;31mValueError\u001b[0m                                Traceback (most recent call last)",
            "\u001b[0;32m<ipython-input-41-b53fae516f87>\u001b[0m in \u001b[0;36m<cell line: 2>\u001b[0;34m()\u001b[0m\n\u001b[1;32m      1\u001b[0m \u001b[0mangka\u001b[0m \u001b[0;34m=\u001b[0m \u001b[0;34m'ini angka'\u001b[0m\u001b[0;34m\u001b[0m\u001b[0;34m\u001b[0m\u001b[0m\n\u001b[0;32m----> 2\u001b[0;31m \u001b[0mprint\u001b[0m\u001b[0;34m(\u001b[0m\u001b[0mint\u001b[0m\u001b[0;34m(\u001b[0m\u001b[0mangka\u001b[0m\u001b[0;34m)\u001b[0m\u001b[0;34m)\u001b[0m\u001b[0;34m\u001b[0m\u001b[0;34m\u001b[0m\u001b[0m\n\u001b[0m",
            "\u001b[0;31mValueError\u001b[0m: invalid literal for int() with base 10: 'ini angka'"
          ]
        }
      ]
    },
    {
      "cell_type": "code",
      "source": [
        "try:\n",
        "    number = int(input(\"Enter a number: \"))\n",
        "except ValueError:\n",
        "    print(\"Input is not a valid number\")"
      ],
      "metadata": {
        "colab": {
          "base_uri": "https://localhost:8080/"
        },
        "id": "xXgo__A6a1pN",
        "outputId": "7d651aa4-38af-4cab-8b71-5d5c24dd6d60"
      },
      "execution_count": null,
      "outputs": [
        {
          "output_type": "stream",
          "name": "stdout",
          "text": [
            "Enter a number: a\n",
            "Input is not a valid number\n"
          ]
        }
      ]
    },
    {
      "cell_type": "markdown",
      "source": [
        "Buat program yang menangkap kesalahan akses elemen list di luar indeks."
      ],
      "metadata": {
        "id": "ky8bJpXSa7rE"
      }
    },
    {
      "cell_type": "code",
      "source": [
        "my_list = [1, 2, 3]\n",
        "try:\n",
        "    print(my_list[5])\n",
        "except IndexError:\n",
        "    print(\"Index out of range\")"
      ],
      "metadata": {
        "colab": {
          "base_uri": "https://localhost:8080/"
        },
        "id": "AupCO78bbBhk",
        "outputId": "99c3a42e-a390-403a-8bca-861d3b58db87"
      },
      "execution_count": null,
      "outputs": [
        {
          "output_type": "stream",
          "name": "stdout",
          "text": [
            "Index out of range\n"
          ]
        }
      ]
    },
    {
      "cell_type": "markdown",
      "source": [
        "Buat program yang menangani beberapa tipe kesalahan dengan excepion yang berbeda."
      ],
      "metadata": {
        "id": "vG-xlSljbGEd"
      }
    },
    {
      "cell_type": "code",
      "source": [
        "try:\n",
        "    result = 10 / int(input(\"Enter a number: \"))\n",
        "except ValueError:\n",
        "    print(\"Input is not a valid number\")\n",
        "except ZeroDivisionError:\n",
        "    print(\"Cannot divide by zero\")"
      ],
      "metadata": {
        "colab": {
          "base_uri": "https://localhost:8080/"
        },
        "id": "qbrjglYMbOPo",
        "outputId": "8a916c53-d64f-4a6a-d76a-9b76eea58070"
      },
      "execution_count": null,
      "outputs": [
        {
          "output_type": "stream",
          "name": "stdout",
          "text": [
            "Enter a number: a\n",
            "Input is not a valid number\n"
          ]
        }
      ]
    },
    {
      "cell_type": "markdown",
      "source": [
        "Buat program yang menggunakan finally untuk menampilkan pesan setelah exception."
      ],
      "metadata": {
        "id": "NeHu4iHXuDh1"
      }
    },
    {
      "cell_type": "code",
      "source": [
        "try:\n",
        "    result = 10 / 0\n",
        "except ZeroDivisionError:\n",
        "    print(\"Division by zero is not allowed\")\n",
        "finally:\n",
        "    print(\"This will execute regardless of an exception\")"
      ],
      "metadata": {
        "colab": {
          "base_uri": "https://localhost:8080/"
        },
        "id": "cCtGqEhGthKz",
        "outputId": "d2c78b0a-7698-4157-e74c-91f630233b5c"
      },
      "execution_count": null,
      "outputs": [
        {
          "output_type": "stream",
          "name": "stdout",
          "text": [
            "Division by zero is not allowed\n",
            "This will execute regardless of an exception\n"
          ]
        }
      ]
    },
    {
      "cell_type": "markdown",
      "source": [
        "Buat class Mahasiswa yang memiliki atribut nama dan umur."
      ],
      "metadata": {
        "id": "1LmBSY--bYkD"
      }
    },
    {
      "cell_type": "code",
      "source": [
        "from sklearn.linear_model import LinearRegression"
      ],
      "metadata": {
        "id": "nNHQ6bAubckE"
      },
      "execution_count": null,
      "outputs": []
    },
    {
      "cell_type": "code",
      "source": [
        "LinearRegression().fit()"
      ],
      "metadata": {
        "colab": {
          "base_uri": "https://localhost:8080/",
          "height": 263
        },
        "id": "lgW0XvfEbfwC",
        "outputId": "4ee6e7f4-d68a-4a9d-9889-4fb58282dd1f"
      },
      "execution_count": null,
      "outputs": [
        {
          "output_type": "error",
          "ename": "TypeError",
          "evalue": "LinearRegression.fit() missing 2 required positional arguments: 'X' and 'y'",
          "traceback": [
            "\u001b[0;31m---------------------------------------------------------------------------\u001b[0m",
            "\u001b[0;31mTypeError\u001b[0m                                 Traceback (most recent call last)",
            "\u001b[0;32m<ipython-input-5-0c6fdb41f2d4>\u001b[0m in \u001b[0;36m<cell line: 1>\u001b[0;34m()\u001b[0m\n\u001b[0;32m----> 1\u001b[0;31m \u001b[0mLinearRegression\u001b[0m\u001b[0;34m(\u001b[0m\u001b[0;34m)\u001b[0m\u001b[0;34m.\u001b[0m\u001b[0mfit\u001b[0m\u001b[0;34m(\u001b[0m\u001b[0;34m)\u001b[0m\u001b[0;34m\u001b[0m\u001b[0;34m\u001b[0m\u001b[0m\n\u001b[0m",
            "\u001b[0;32m/usr/local/lib/python3.10/dist-packages/sklearn/base.py\u001b[0m in \u001b[0;36mwrapper\u001b[0;34m(estimator, *args, **kwargs)\u001b[0m\n\u001b[1;32m   1150\u001b[0m                 )\n\u001b[1;32m   1151\u001b[0m             ):\n\u001b[0;32m-> 1152\u001b[0;31m                 \u001b[0;32mreturn\u001b[0m \u001b[0mfit_method\u001b[0m\u001b[0;34m(\u001b[0m\u001b[0mestimator\u001b[0m\u001b[0;34m,\u001b[0m \u001b[0;34m*\u001b[0m\u001b[0margs\u001b[0m\u001b[0;34m,\u001b[0m \u001b[0;34m**\u001b[0m\u001b[0mkwargs\u001b[0m\u001b[0;34m)\u001b[0m\u001b[0;34m\u001b[0m\u001b[0;34m\u001b[0m\u001b[0m\n\u001b[0m\u001b[1;32m   1153\u001b[0m \u001b[0;34m\u001b[0m\u001b[0m\n\u001b[1;32m   1154\u001b[0m         \u001b[0;32mreturn\u001b[0m \u001b[0mwrapper\u001b[0m\u001b[0;34m\u001b[0m\u001b[0;34m\u001b[0m\u001b[0m\n",
            "\u001b[0;31mTypeError\u001b[0m: LinearRegression.fit() missing 2 required positional arguments: 'X' and 'y'"
          ]
        }
      ]
    },
    {
      "cell_type": "code",
      "source": [
        "class Mahasiswa:\n",
        "    def __init__(self, nama, umur):\n",
        "        self.nama = nama\n",
        "        self.umur = umur"
      ],
      "metadata": {
        "id": "FRJiJ33WbiTY"
      },
      "execution_count": null,
      "outputs": []
    },
    {
      "cell_type": "markdown",
      "source": [
        "Buat method dalam class untuk menampilkan informasi mahasiswa."
      ],
      "metadata": {
        "id": "YBZVNFS1vEq0"
      }
    },
    {
      "cell_type": "code",
      "source": [
        "class Mahasiswa:\n",
        "    def __init__(self, nama, umur, jenis_kelamin):\n",
        "        self.nama = nama\n",
        "        self.u = umur\n",
        "        self.jk = jenis_kelamin\n",
        "\n",
        "    def tampilkan_informasi(self):\n",
        "        print(f\"Nama: {self.nama}, Umur: {self.u}, Jenis Kelamin : {self.jk}\")"
      ],
      "metadata": {
        "id": "Q_r5NlxhuUj9"
      },
      "execution_count": null,
      "outputs": []
    },
    {
      "cell_type": "code",
      "source": [
        "mhs = Mahasiswa('Yanto', 98, 'Laki-laki')\n",
        "mhs.tampilkan_informasi() #memanggil fungsi untuk menampilkan informasi"
      ],
      "metadata": {
        "colab": {
          "base_uri": "https://localhost:8080/"
        },
        "id": "-edDUEUIwdBu",
        "outputId": "25baf2cf-8275-456b-d091-51813abb5c3c"
      },
      "execution_count": null,
      "outputs": [
        {
          "output_type": "stream",
          "name": "stdout",
          "text": [
            "Nama: Yanto, Umur: 98, Jenis Kelamin : Laki-laki\n"
          ]
        }
      ]
    },
    {
      "cell_type": "markdown",
      "source": [
        "Buat program untuk menginisialisasi objek dari class Mahasiswa."
      ],
      "metadata": {
        "id": "-xafnf8nbl8d"
      }
    },
    {
      "cell_type": "code",
      "source": [
        "mahasiswa1 = Mahasiswa(\"Alice\", 20)\n",
        "mahasiswa1.tampilkan_informasi()"
      ],
      "metadata": {
        "colab": {
          "base_uri": "https://localhost:8080/",
          "height": 158
        },
        "id": "h3qXmQn7bqSK",
        "outputId": "4edf7157-4d13-46a0-8c42-cfbbacef0366"
      },
      "execution_count": null,
      "outputs": [
        {
          "output_type": "error",
          "ename": "TypeError",
          "evalue": "Mahasiswa.__init__() missing 1 required positional argument: 'jenis_kelamin'",
          "traceback": [
            "\u001b[0;31m---------------------------------------------------------------------------\u001b[0m",
            "\u001b[0;31mTypeError\u001b[0m                                 Traceback (most recent call last)",
            "\u001b[0;32m<ipython-input-10-db65923d8bc5>\u001b[0m in \u001b[0;36m<cell line: 1>\u001b[0;34m()\u001b[0m\n\u001b[0;32m----> 1\u001b[0;31m \u001b[0mmahasiswa1\u001b[0m \u001b[0;34m=\u001b[0m \u001b[0mMahasiswa\u001b[0m\u001b[0;34m(\u001b[0m\u001b[0;34m\"Alice\"\u001b[0m\u001b[0;34m,\u001b[0m \u001b[0;36m20\u001b[0m\u001b[0;34m)\u001b[0m\u001b[0;34m\u001b[0m\u001b[0;34m\u001b[0m\u001b[0m\n\u001b[0m\u001b[1;32m      2\u001b[0m \u001b[0mmahasiswa1\u001b[0m\u001b[0;34m.\u001b[0m\u001b[0mtampilkan_informasi\u001b[0m\u001b[0;34m(\u001b[0m\u001b[0;34m)\u001b[0m\u001b[0;34m\u001b[0m\u001b[0;34m\u001b[0m\u001b[0m\n",
            "\u001b[0;31mTypeError\u001b[0m: Mahasiswa.__init__() missing 1 required positional argument: 'jenis_kelamin'"
          ]
        }
      ]
    },
    {
      "cell_type": "markdown",
      "source": [
        "Buat program yang menggunakan contructor dalam class."
      ],
      "metadata": {
        "id": "pVbcK6mAcBsK"
      }
    },
    {
      "cell_type": "code",
      "source": [
        "class Person:\n",
        "    def __init__(self, name):\n",
        "        self.name = name\n",
        "\n",
        "person = Person(\"John\")\n",
        "print(person.name)"
      ],
      "metadata": {
        "colab": {
          "base_uri": "https://localhost:8080/"
        },
        "id": "rLOVCGoMcK6S",
        "outputId": "e80d69ce-d954-4bd7-cc69-46f3e4ce633f"
      },
      "execution_count": null,
      "outputs": [
        {
          "output_type": "stream",
          "name": "stdout",
          "text": [
            "John\n"
          ]
        }
      ]
    },
    {
      "cell_type": "markdown",
      "source": [
        " Buat program yang menggunakan inheritance untuk class Person dan Mahasiswa."
      ],
      "metadata": {
        "id": "mTFUiwuWw0T1"
      }
    },
    {
      "cell_type": "code",
      "source": [
        "class Person:\n",
        "    def __init__(self, name):\n",
        "        self.name = name\n",
        "\n",
        "class Mahasiswa(Person):\n",
        "    def __init__(self, name, umur):\n",
        "        super().__init__(name)\n",
        "        self.umur = umur\n",
        "\n",
        "mahasiswa = Mahasiswa(\"Alice\", 20)\n",
        "print(mahasiswa.name, mahasiswa.umur)"
      ],
      "metadata": {
        "colab": {
          "base_uri": "https://localhost:8080/"
        },
        "id": "bJj1JnAcxUql",
        "outputId": "3b53a84c-0482-4d55-b1c7-f539fc0a8f6e"
      },
      "execution_count": null,
      "outputs": [
        {
          "output_type": "stream",
          "name": "stdout",
          "text": [
            "Alice 20\n"
          ]
        }
      ]
    },
    {
      "cell_type": "markdown",
      "source": [
        "Buat program yang menggunakan method overriding dalam inheritance."
      ],
      "metadata": {
        "id": "g6AT95LfcOTk"
      }
    },
    {
      "cell_type": "code",
      "source": [
        "class Animal:\n",
        "    def speak(self):\n",
        "        print(\"Animal speaks\")\n",
        "\n",
        "class Dog(Animal):\n",
        "    def speak(self):\n",
        "        print(\"Dog barks\")\n",
        "\n",
        "dog = Dog()\n",
        "dog.speak()"
      ],
      "metadata": {
        "colab": {
          "base_uri": "https://localhost:8080/"
        },
        "id": "PKoIl-xicV6i",
        "outputId": "d5d6c885-5bf7-4701-c309-6c2a7234c305"
      },
      "execution_count": null,
      "outputs": [
        {
          "output_type": "stream",
          "name": "stdout",
          "text": [
            "Dog barks\n"
          ]
        }
      ]
    },
    {
      "cell_type": "markdown",
      "source": [
        "Buat program yang menampilkan jumlah objek yang dibuat dari sebuah class."
      ],
      "metadata": {
        "id": "ayXdppUacYQZ"
      }
    },
    {
      "cell_type": "code",
      "source": [
        "class Counter:\n",
        "    count = 0\n",
        "\n",
        "    def __init__(self):\n",
        "        Counter.count += 1\n",
        "\n",
        "obj1 = Counter()\n",
        "obj2 = Counter()\n",
        "print(Counter.count)"
      ],
      "metadata": {
        "colab": {
          "base_uri": "https://localhost:8080/"
        },
        "id": "3AGmj9IHcea5",
        "outputId": "7fa09a00-eab0-4fb6-97b3-ea7c46ae3e56"
      },
      "execution_count": null,
      "outputs": [
        {
          "output_type": "stream",
          "name": "stdout",
          "text": [
            "2\n"
          ]
        }
      ]
    },
    {
      "cell_type": "markdown",
      "source": [
        "Buat program yang membuat class dengan method statis."
      ],
      "metadata": {
        "id": "CIv5husQcjlv"
      }
    },
    {
      "cell_type": "code",
      "source": [
        "class MathUtils:\n",
        "    @staticmethod\n",
        "    def add(a, b):\n",
        "        return a + b\n",
        "\n",
        "print(MathUtils.add(5, 7))"
      ],
      "metadata": {
        "colab": {
          "base_uri": "https://localhost:8080/"
        },
        "id": "9lYn4AxIcnXA",
        "outputId": "a0058d5e-2ae8-465c-c803-d6cc57b45b43"
      },
      "execution_count": null,
      "outputs": [
        {
          "output_type": "stream",
          "name": "stdout",
          "text": [
            "12\n"
          ]
        }
      ]
    },
    {
      "cell_type": "markdown",
      "source": [
        "Buat program yang meng-import modul matematika dan menggunakan fungsi sqrt."
      ],
      "metadata": {
        "id": "vDZzZmvucp61"
      }
    },
    {
      "cell_type": "code",
      "source": [
        "import math\n",
        "print(math.sqrt(16))"
      ],
      "metadata": {
        "colab": {
          "base_uri": "https://localhost:8080/"
        },
        "id": "C33ssVGQcyaN",
        "outputId": "aad6431a-bf26-46c9-f234-3280fcccd81b"
      },
      "execution_count": null,
      "outputs": [
        {
          "output_type": "stream",
          "name": "stdout",
          "text": [
            "4.0\n"
          ]
        }
      ]
    },
    {
      "cell_type": "markdown",
      "source": [
        "Buat modul sendiri untuk menghitung luas dan keliling persegi."
      ],
      "metadata": {
        "id": "f42UjunCc1ZF"
      }
    },
    {
      "cell_type": "code",
      "source": [
        "# square.py\n",
        "def area(side):\n",
        "    return side * side\n",
        "\n",
        "def perimeter(side):\n",
        "    return 4 * side"
      ],
      "metadata": {
        "id": "KRZsBpHsc7sP"
      },
      "execution_count": null,
      "outputs": []
    },
    {
      "cell_type": "code",
      "source": [
        "# cuboid.py\n",
        "def volume(length, width, height):\n",
        "    return length * width * height"
      ],
      "metadata": {
        "id": "D2O0p4Nrc8Jy"
      },
      "execution_count": null,
      "outputs": []
    },
    {
      "cell_type": "code",
      "source": [
        "# sphere.py\n",
        "import math\n",
        "def volume(radius):\n",
        "    return (4/3) * math.pi * radius**3"
      ],
      "metadata": {
        "id": "6WMKz4BQc8ks"
      },
      "execution_count": null,
      "outputs": []
    },
    {
      "cell_type": "markdown",
      "source": [
        "Buat package untuk menghitung volume berbagai bangun ruang."
      ],
      "metadata": {
        "id": "rNeY1o8cdDf_"
      }
    },
    {
      "cell_type": "code",
      "source": [
        "import math\n",
        "def volume(radius):\n",
        "    return (4/3) * math.pi * radius**3"
      ],
      "metadata": {
        "id": "FBOlI9DFdIZP"
      },
      "execution_count": null,
      "outputs": []
    },
    {
      "cell_type": "markdown",
      "source": [
        "Buat program yang meng-import modul random dan menghasilkan angka acak."
      ],
      "metadata": {
        "id": "6WKjyc0cdLcz"
      }
    },
    {
      "cell_type": "code",
      "source": [
        "import random\n",
        "print(random.randint(1, 100))"
      ],
      "metadata": {
        "colab": {
          "base_uri": "https://localhost:8080/"
        },
        "id": "gnsh11Q-dRSm",
        "outputId": "5055338c-1c72-45bf-9701-c60c76b7f260"
      },
      "execution_count": null,
      "outputs": [
        {
          "output_type": "stream",
          "name": "stdout",
          "text": [
            "37\n"
          ]
        }
      ]
    },
    {
      "cell_type": "markdown",
      "source": [
        "Buat program yang menggunakan fungsi waktu untuk menghitung lama eksekusi program."
      ],
      "metadata": {
        "id": "RabpfJt1dU36"
      }
    },
    {
      "cell_type": "code",
      "source": [
        "import time\n",
        "start_time = time.time()\n",
        "\n",
        "time.sleep(1)\n",
        "end_time = time.time()\n",
        "print(\"Execution time:\", end_time - start_time, \"seconds\")"
      ],
      "metadata": {
        "colab": {
          "base_uri": "https://localhost:8080/"
        },
        "id": "uxA7qeATdarQ",
        "outputId": "08a9fc46-49be-4ea5-8b09-7e82b00c0ab4"
      },
      "execution_count": null,
      "outputs": [
        {
          "output_type": "stream",
          "name": "stdout",
          "text": [
            "Execution time: 1.0004537105560303 seconds\n"
          ]
        }
      ]
    },
    {
      "cell_type": "markdown",
      "source": [
        "Buat fungsi lambda untuk menghitung kuadrat dari sebuah angka."
      ],
      "metadata": {
        "id": "1098G3TJdelf"
      }
    },
    {
      "cell_type": "code",
      "source": [
        "square = lambda x: x * x\n",
        "print(square(5))"
      ],
      "metadata": {
        "colab": {
          "base_uri": "https://localhost:8080/"
        },
        "id": "oNEibkfZdi1j",
        "outputId": "c2347927-14b8-48b0-b41d-6fd8a816af14"
      },
      "execution_count": null,
      "outputs": [
        {
          "output_type": "stream",
          "name": "stdout",
          "text": [
            "25\n"
          ]
        }
      ]
    },
    {
      "cell_type": "markdown",
      "source": [
        "Buat program yang menggunakan map untuk menghitung kuadrat dari semua elemen dalam list."
      ],
      "metadata": {
        "id": "ZGqH1jbzdlCO"
      }
    },
    {
      "cell_type": "code",
      "source": [
        "numbers = [1, 2, 3, 4, 5]\n",
        "squares = list(map(lambda x: x * x, numbers))\n",
        "print(squares)"
      ],
      "metadata": {
        "colab": {
          "base_uri": "https://localhost:8080/"
        },
        "id": "PvysPuGWdsYN",
        "outputId": "2f1cb488-bc1d-45ec-9afa-1124b1b7eaed"
      },
      "execution_count": null,
      "outputs": [
        {
          "output_type": "stream",
          "name": "stdout",
          "text": [
            "[1, 4, 9, 16, 25]\n"
          ]
        }
      ]
    },
    {
      "cell_type": "markdown",
      "source": [
        "Buat program yang menggunakan filter untuk menyaring bilangan ganjil dari list."
      ],
      "metadata": {
        "id": "sfbFbPt-dvPj"
      }
    },
    {
      "cell_type": "code",
      "source": [
        "numbers = [1, 2, 3, 4, 5, 6]\n",
        "odds = list(filter(lambda x: x % 2 != 0, numbers))\n",
        "print(odds)"
      ],
      "metadata": {
        "colab": {
          "base_uri": "https://localhost:8080/"
        },
        "id": "ni8sFXSqd3Po",
        "outputId": "b5b419b8-2bc6-420b-cd49-03f909e67a42"
      },
      "execution_count": null,
      "outputs": [
        {
          "output_type": "stream",
          "name": "stdout",
          "text": [
            "[1, 3, 5]\n"
          ]
        }
      ]
    },
    {
      "cell_type": "markdown",
      "source": [
        "Buat program untuk menggunakan reduce untuk menghitung jumlah semua elemen dalam list."
      ],
      "metadata": {
        "id": "PRtw3Stid5Fl"
      }
    },
    {
      "cell_type": "code",
      "source": [
        "from functools import reduce\n",
        "numbers = [1, 2, 3, 4, 5]\n",
        "total = reduce(lambda x, y: x + y, numbers)\n",
        "print(total)"
      ],
      "metadata": {
        "colab": {
          "base_uri": "https://localhost:8080/"
        },
        "id": "EcJhdOQnd_1P",
        "outputId": "372172f2-54b6-4b93-b5be-e20f6de80f46"
      },
      "execution_count": null,
      "outputs": [
        {
          "output_type": "stream",
          "name": "stdout",
          "text": [
            "15\n"
          ]
        }
      ]
    },
    {
      "cell_type": "markdown",
      "source": [
        "Buat program untuk menghitung jumlah huruf vokal dalam sebuah string."
      ],
      "metadata": {
        "id": "k3hmDXmGeCTq"
      }
    },
    {
      "cell_type": "code",
      "source": [
        "string = \"hello world\"\n",
        "vowels = \"aeiou\"\n",
        "count = sum(1 for char in string if char in vowels)\n",
        "print(count)"
      ],
      "metadata": {
        "colab": {
          "base_uri": "https://localhost:8080/"
        },
        "id": "C2ldzVz8eGgk",
        "outputId": "38c943a5-050e-4a04-d4fd-fe3782329245"
      },
      "execution_count": null,
      "outputs": [
        {
          "output_type": "stream",
          "name": "stdout",
          "text": [
            "3\n"
          ]
        }
      ]
    },
    {
      "cell_type": "markdown",
      "source": [
        "Buat program untuk memeriksa apakah string adalah palidrom."
      ],
      "metadata": {
        "id": "tJa8nBr8eJcX"
      }
    },
    {
      "cell_type": "code",
      "source": [
        "def is_palindrome(s):\n",
        "    return s == s[::-1]\n",
        "\n",
        "print(is_palindrome(\"madam\"))"
      ],
      "metadata": {
        "colab": {
          "base_uri": "https://localhost:8080/"
        },
        "id": "0WpTYRxneOj1",
        "outputId": "2b8b7a7c-3a60-4746-e78c-937805181cfb"
      },
      "execution_count": null,
      "outputs": [
        {
          "output_type": "stream",
          "name": "stdout",
          "text": [
            "True\n"
          ]
        }
      ]
    },
    {
      "cell_type": "markdown",
      "source": [
        "Buat program yang menggunakan nested loop untuk menampilkan pola bintang."
      ],
      "metadata": {
        "id": "NB3hTGv2eREf"
      }
    },
    {
      "cell_type": "code",
      "source": [
        "for i in range(5):\n",
        "    for j in range(i + 1):\n",
        "        print(\"*\", end=\"\")\n",
        "    print()"
      ],
      "metadata": {
        "colab": {
          "base_uri": "https://localhost:8080/"
        },
        "id": "z_7-JPyGeXRy",
        "outputId": "f8098eb3-3ee2-4300-ccb5-2450b41e3580"
      },
      "execution_count": null,
      "outputs": [
        {
          "output_type": "stream",
          "name": "stdout",
          "text": [
            "*\n",
            "**\n",
            "***\n",
            "****\n",
            "*****\n"
          ]
        }
      ]
    },
    {
      "cell_type": "markdown",
      "source": [
        "Buat program untuk menghitung faktorial menggunakan iterasi."
      ],
      "metadata": {
        "id": "Z_0Wd2cmeZZC"
      }
    },
    {
      "cell_type": "code",
      "source": [
        "def factorial(n):\n",
        "    result = 1\n",
        "    for i in range(1, n + 1):\n",
        "        result *= i\n",
        "    return result\n",
        "\n",
        "print(factorial(5))"
      ],
      "metadata": {
        "colab": {
          "base_uri": "https://localhost:8080/"
        },
        "id": "9jVnjTpreeH-",
        "outputId": "8cda3714-db6f-47af-deb4-af29791aeaf9"
      },
      "execution_count": null,
      "outputs": [
        {
          "output_type": "stream",
          "name": "stdout",
          "text": [
            "120\n"
          ]
        }
      ]
    },
    {
      "cell_type": "markdown",
      "source": [
        "Buat program yang meminta input nama dan umur lalu menampilkannya dengan format tertentu."
      ],
      "metadata": {
        "id": "qup98fYoegge"
      }
    },
    {
      "cell_type": "code",
      "source": [
        "name = input(\"Enter your name: \")\n",
        "age = int(input(\"Enter your age: \"))\n",
        "print(f\"Name: {name}, Age: {age}\")"
      ],
      "metadata": {
        "colab": {
          "base_uri": "https://localhost:8080/"
        },
        "id": "7m4Nv3CJenA5",
        "outputId": "1106136d-2449-4491-fb21-41d23f2eaedd"
      },
      "execution_count": null,
      "outputs": [
        {
          "output_type": "stream",
          "name": "stdout",
          "text": [
            "Enter your name: Mulyono\n",
            "Enter your age: 12\n",
            "Name: Mulyono, Age: 12\n"
          ]
        }
      ]
    },
    {
      "cell_type": "markdown",
      "source": [
        "Buat program yang membalik urutan elemen dalam list tanpa menggunakan fungsi built-in."
      ],
      "metadata": {
        "id": "zMflsg_3er17"
      }
    },
    {
      "cell_type": "code",
      "source": [
        "my_list = [1, 2, 3, 4, 5]\n",
        "reversed_list = my_list[::-1]\n",
        "print(reversed_list)"
      ],
      "metadata": {
        "colab": {
          "base_uri": "https://localhost:8080/"
        },
        "id": "bkhD1a8Ke1Hd",
        "outputId": "ab94ad75-6c90-4d1b-8ef5-34f1ec30c26c"
      },
      "execution_count": null,
      "outputs": [
        {
          "output_type": "stream",
          "name": "stdout",
          "text": [
            "[5, 4, 3, 2, 1]\n"
          ]
        }
      ]
    },
    {
      "cell_type": "markdown",
      "source": [
        "Buat program yang menampilkan hari saat ini menggunakan modul datetime."
      ],
      "metadata": {
        "id": "2tqiRGUgfB5N"
      }
    },
    {
      "cell_type": "code",
      "source": [
        "import datetime\n",
        "today = datetime.datetime.now()\n",
        "print(today.strftime(\"%A\"))"
      ],
      "metadata": {
        "colab": {
          "base_uri": "https://localhost:8080/"
        },
        "id": "VoyY2fiofHdZ",
        "outputId": "0d74f644-3c63-461a-8e71-23d79909e273"
      },
      "execution_count": null,
      "outputs": [
        {
          "output_type": "stream",
          "name": "stdout",
          "text": [
            "Thursday\n"
          ]
        }
      ]
    },
    {
      "cell_type": "markdown",
      "source": [
        "Buat program yang menerima dua angka dari input, lalu menampilkan hasil pembagiannya."
      ],
      "metadata": {
        "id": "D6-mz5VGfJcL"
      }
    },
    {
      "cell_type": "code",
      "source": [
        "num1 = float(input(\"Enter first number: \"))\n",
        "num2 = float(input(\"Enter second number: \"))\n",
        "\n",
        "if num2 != 0:\n",
        "    print(num1 / num2)\n",
        "else:\n",
        "    print(\"Cannot divide by zero\")"
      ],
      "metadata": {
        "colab": {
          "base_uri": "https://localhost:8080/"
        },
        "id": "CIkWyKxzfQls",
        "outputId": "55147ab3-6951-4c01-c21e-ec051978bfe0"
      },
      "execution_count": null,
      "outputs": [
        {
          "output_type": "stream",
          "name": "stdout",
          "text": [
            "Enter first number: 12\n",
            "Enter second number: 21\n",
            "0.5714285714285714\n"
          ]
        }
      ]
    },
    {
      "cell_type": "markdown",
      "source": [
        "Buat fungsi untuk memeriksa apakah suatu angka adalah bilangan prima."
      ],
      "metadata": {
        "id": "iaaj4PCU0Dtd"
      }
    },
    {
      "cell_type": "code",
      "source": [
        "def is_prime(n):\n",
        "    if n <= 1:\n",
        "        return False\n",
        "    for i in range(2, int(n**0.5) + 1):\n",
        "        if n % i == 0:\n",
        "            return False\n",
        "    return True\n",
        "\n",
        "print(is_prime(7))"
      ],
      "metadata": {
        "colab": {
          "base_uri": "https://localhost:8080/"
        },
        "id": "nE5Ml5QByOzg",
        "outputId": "643b5384-308f-4b52-889c-6e03900ec2ef"
      },
      "execution_count": null,
      "outputs": [
        {
          "output_type": "stream",
          "name": "stdout",
          "text": [
            "True\n"
          ]
        }
      ]
    }
  ]
}