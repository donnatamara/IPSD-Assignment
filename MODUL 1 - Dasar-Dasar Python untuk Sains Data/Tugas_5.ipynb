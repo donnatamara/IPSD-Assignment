{
  "nbformat": 4,
  "nbformat_minor": 0,
  "metadata": {
    "colab": {
      "provenance": []
    },
    "kernelspec": {
      "name": "python3",
      "display_name": "Python 3"
    },
    "language_info": {
      "name": "python"
    }
  },
  "cells": [
    {
      "cell_type": "markdown",
      "source": [
        "### Soal 5: Kombinasi Logika dan Kreativitas"
      ],
      "metadata": {
        "id": "fXFuUwN_tq4r"
      }
    },
    {
      "cell_type": "markdown",
      "source": [
        "**Soal**: Buatlah permainan sederhana menggunakan Python, di mana komputer akan memilih sebuah angka secara acak antara 1 hingga 100, dan pengguna harus menebak angka tersebut. Setiap tebakan yang salah akan memberikan petunjuk apakah angka yang ditebak lebih besar atau lebih kecil dari angka sebenarnya. Batasi jumlah percobaan menjadi 5 kali. Setelah permainan selesai, tampilkan apakah pemain menang atau kalah."
      ],
      "metadata": {
        "id": "UlSiGVhqtzJt"
      }
    },
    {
      "cell_type": "code",
      "source": [
        "import random\n",
        "\n",
        "def tebak_angka():\n",
        "    # Angka acak antara 1 hingga 100 akan dipilih oleh komputer\n",
        "    angka_rahasia = random.randint(1, 100)\n",
        "\n",
        "    # Membatasi percobaan menjadi hanya 5 kali saja\n",
        "    sisa_percobaan = 5\n",
        "\n",
        "    print(\"Selamat datang! dalam permainan tebak angka!\")\n",
        "    print(\"Komputer telah memilih sebuah angka antara 1 hingga 100.\")\n",
        "    print(\"Anda hanya memiliki 5 kali percobaan untuk menebak berapakah angka tersebut.\")\n",
        "\n",
        "    # Loop dalam percobaan permainan tebak angka\n",
        "    while sisa_percobaan > 0:\n",
        "        try:\n",
        "            tebak = int(input(\"Masukkan angka yang Anda ingin tebak: \"))\n",
        "\n",
        "            if tebak == angka_rahasia:\n",
        "                print(f\"Selamat! Anda telah berhasil menebak angka {angka_rahasia} dengan benar.\")\n",
        "                return\n",
        "            elif tebak > angka_rahasia:\n",
        "                print(\"Maaf angka yang Anda tebak terlalu besar.\")\n",
        "            else:\n",
        "                print(\"Maaf angka yang Anda tebak terlalu kecil.\")\n",
        "\n",
        "            # Mengurangi jumlah percobaan yang tersisa\n",
        "            sisa_percobaan -= 1\n",
        "            print(f\"Sisa percobaan: {sisa_percobaan}\")\n",
        "\n",
        "        except ValueError:\n",
        "            print(\"Masukkan angka yang valid!\")\n",
        "\n",
        "    # Jika tidak berhasil menebak setelah 5 percobaan\n",
        "    print(f\"Maaf, Anda telah kalah. Angka rahasianya adalah {angka_rahasia}.\")\n",
        "\n",
        "# Memulai permainan tebak angka\n",
        "tebak_angka()"
      ],
      "metadata": {
        "colab": {
          "base_uri": "https://localhost:8080/"
        },
        "id": "HODU7AoBtzqm",
        "outputId": "6403f137-6062-4c1f-a26f-eed3f9a78a87"
      },
      "execution_count": 1,
      "outputs": [
        {
          "output_type": "stream",
          "name": "stdout",
          "text": [
            "Selamat datang! dalam permainan tebak angka!\n",
            "Komputer telah memilih sebuah angka antara 1 hingga 100.\n",
            "Anda hanya memiliki 5 kali percobaan untuk menebak berapakah angka tersebut.\n",
            "Masukkan angka yang Anda ingin tebak: 66\n",
            "Maaf angka yang Anda tebak terlalu kecil.\n",
            "Sisa percobaan: 4\n",
            "Masukkan angka yang Anda ingin tebak: 89\n",
            "Maaf angka yang Anda tebak terlalu besar.\n",
            "Sisa percobaan: 3\n",
            "Masukkan angka yang Anda ingin tebak: 75\n",
            "Maaf angka yang Anda tebak terlalu kecil.\n",
            "Sisa percobaan: 2\n",
            "Masukkan angka yang Anda ingin tebak: 80\n",
            "Maaf angka yang Anda tebak terlalu kecil.\n",
            "Sisa percobaan: 1\n",
            "Masukkan angka yang Anda ingin tebak: 85\n",
            "Maaf angka yang Anda tebak terlalu kecil.\n",
            "Sisa percobaan: 0\n",
            "Maaf, Anda telah kalah. Angka rahasianya adalah 86.\n"
          ]
        }
      ]
    }
  ]
}