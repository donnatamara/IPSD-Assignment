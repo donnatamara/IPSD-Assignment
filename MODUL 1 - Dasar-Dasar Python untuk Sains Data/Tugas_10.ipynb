{
  "nbformat": 4,
  "nbformat_minor": 0,
  "metadata": {
    "colab": {
      "provenance": []
    },
    "kernelspec": {
      "name": "python3",
      "display_name": "Python 3"
    },
    "language_info": {
      "name": "python"
    }
  },
  "cells": [
    {
      "cell_type": "markdown",
      "source": [
        "### Soal 10: Algoritma dengan Persyaratan Logika Khusus"
      ],
      "metadata": {
        "id": "JgtwlZeqL3Vf"
      }
    },
    {
      "cell_type": "markdown",
      "source": [
        "**Soal**: Buatlah program yang mengimplementasikan algoritma pencarian biner, namun dengan modifikasi: algoritma harus bisa mencari nilai di list yang hanya berisi angka genap, dan jika nilai yang dicari adalah angka ganjil, program harus menampilkan pesan bahwa nilai tersebut tidak bisa ditemukan."
      ],
      "metadata": {
        "id": "wLZuKrfoMAoN"
      }
    },
    {
      "cell_type": "code",
      "source": [
        "def binary_search_nilai_genap(arr, nilai):\n",
        "    # Memeriksa apakah nilai yang dicari merupakan angka ganjil atau bukan\n",
        "    if nilai % 2 != 0:\n",
        "        print(f\"Nilai {nilai} tidak bisa ditemukan, karena merupakan angka ganjil.\")\n",
        "        return -1\n",
        "\n",
        "    # Fungsi pencarian biner\n",
        "    left, right = 0, len(arr) - 1\n",
        "\n",
        "    while left <= right:\n",
        "        mid = (left + right) // 2\n",
        "        if arr[mid] == nilai:\n",
        "            return mid\n",
        "\n",
        "        # Jika nilai lebih kecil dari nilai tengah, periksa bagian kiri\n",
        "        elif arr[mid] > nilai:\n",
        "            right = mid - 1\n",
        "\n",
        "        # Jika nilai lebih besar dari nilai tengah, periksa bagian kanan\n",
        "        else:\n",
        "            left = mid + 1\n",
        "    return -1\n",
        "\n",
        "arr = [2, 6, 8, 20, 10, 38, 46]\n",
        "nilai = int(input(\"Masukkan nilai yang ingin dicari: \"))\n",
        "\n",
        "# Memanggil fungsi pencarian biner\n",
        "index = binary_search_nilai_genap(arr, nilai)\n",
        "\n",
        "# Menampilkan hasil akhir pencarian\n",
        "if index != -1:\n",
        "    print(f\"Nilai {nilai} ditemukan di indeks {index}.\")\n",
        "else:\n",
        "    if nilai % 2 == 0:\n",
        "        print(f\"Nilai {nilai} tidak dapat ditemukan.\")"
      ],
      "metadata": {
        "id": "no9bqb6pL6XV",
        "colab": {
          "base_uri": "https://localhost:8080/"
        },
        "outputId": "2cc1a0bd-6746-4476-aff2-42772605ec07"
      },
      "execution_count": 15,
      "outputs": [
        {
          "output_type": "stream",
          "name": "stdout",
          "text": [
            "Masukkan nilai yang ingin dicari: 46\n",
            "Nilai 46 ditemukan di indeks 6.\n"
          ]
        }
      ]
    }
  ]
}