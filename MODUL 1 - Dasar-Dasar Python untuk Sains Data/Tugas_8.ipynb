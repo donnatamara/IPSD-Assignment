{
  "nbformat": 4,
  "nbformat_minor": 0,
  "metadata": {
    "colab": {
      "provenance": []
    },
    "kernelspec": {
      "name": "python3",
      "display_name": "Python 3"
    },
    "language_info": {
      "name": "python"
    }
  },
  "cells": [
    {
      "cell_type": "code",
      "execution_count": null,
      "metadata": {
        "id": "cgbt42VTHItx"
      },
      "outputs": [],
      "source": []
    },
    {
      "cell_type": "markdown",
      "source": [
        "### Soal 8: Kombinasi String dan Manipulasi List"
      ],
      "metadata": {
        "id": "fl1X4F7PHK0T"
      }
    },
    {
      "cell_type": "markdown",
      "source": [
        "**Soal**: Buat sebuah program yang menerima string dari pengguna dan mengonversi string tersebut menjadi sebuah list berisi kata-kata terbalik. Misalnya:\n",
        "```\n",
        "Input: \"Saya suka Python\"\n",
        "Output: [\"ayaS\", \"akus\", \"nohtyP\"]\n",
        "\n",
        "```"
      ],
      "metadata": {
        "id": "uY-Y-huqHMu5"
      }
    },
    {
      "cell_type": "code",
      "source": [
        "def balik_kata(input_string):\n",
        "    # Memisahkan input menjadi list kata berdasarkan spasi\n",
        "    kata_list = input_string.split()\n",
        "    # Membalikkan setiap kata\n",
        "    kata_terbalik = [kata[::-1] for kata in kata_list]\n",
        "    return kata_terbalik\n",
        "\n",
        "# Pengguna memasukkan sebuah kalimat\n",
        "input_user = input('Input: ')\n",
        "hasil = balik_kata(input_user)\n",
        "print('Output: ', hasil)"
      ],
      "metadata": {
        "colab": {
          "base_uri": "https://localhost:8080/"
        },
        "id": "pANpNg0MHTkR",
        "outputId": "8595fd9e-9917-4995-f15b-3dbeb304dbff"
      },
      "execution_count": 8,
      "outputs": [
        {
          "output_type": "stream",
          "name": "stdout",
          "text": [
            "Input: Saya suka Python\n",
            "Output:  ['ayaS', 'akus', 'nohtyP']\n"
          ]
        }
      ]
    }
  ]
}