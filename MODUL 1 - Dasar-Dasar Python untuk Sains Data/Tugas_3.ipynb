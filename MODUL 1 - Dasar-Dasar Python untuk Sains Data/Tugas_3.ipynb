{
  "cells": [
    {
      "cell_type": "markdown",
      "metadata": {
        "id": "LVqLduRGbkLG"
      },
      "source": [
        "### Soal 3: Exception Handling dalam Konteks Nyata"
      ]
    },
    {
      "cell_type": "markdown",
      "metadata": {
        "id": "8jL_dP3ebnUM"
      },
      "source": [
        "**Soal**: Buat sebuah program untuk mensimulasikan transaksi ATM. Program harus:\n",
        "1. Meminta pengguna memasukkan PIN (dibatasi 3 kali percobaan).\n",
        "2. Setelah PIN benar, meminta jumlah penarikan.\n",
        "3. Jika saldo kurang dari jumlah yang ditarik, munculkan pesan kesalahan.\n",
        "4. Jika penarikan berhasil, tampilkan saldo akhir."
      ]
    },
    {
      "cell_type": "code",
      "execution_count": null,
      "metadata": {
        "colab": {
          "background_save": true,
          "base_uri": "https://localhost:8080/"
        },
        "id": "S3TT_bjjbf4c",
        "outputId": "592aba98-c813-43a0-cd3a-db49d5e24135"
      },
      "outputs": [
        {
          "name": "stdout",
          "output_type": "stream",
          "text": [
            "Penarikan telah berhasil! Saldo saat ini Rp 370000\n"
          ]
        }
      ],
      "source": [
        "PIN = \"7924\"  # PIN yang telah terdaftar\n",
        "saldo = 670000  # Saldo awal ATM\n",
        "\n",
        "def cek_pin():\n",
        "    # Pengguna memiliki 3 kali percobaan untuk memasukkan PIN\n",
        "    for percobaan in range(3):\n",
        "        pin_input = input(\"Masukkan PIN Anda: \")\n",
        "        if pin_input == PIN:\n",
        "            return True\n",
        "        else:\n",
        "            print(f\"PIN yang Anda masukkan salah. Percobaan tersisa: {2 - percobaan}\")\n",
        "    return False\n",
        "\n",
        "def transaksi():\n",
        "    global saldo\n",
        "    if cek_pin():\n",
        "        try:\n",
        "            # Meminta jumlah penarikan kepada pengguna\n",
        "            jumlah_penarikan = int(input(\"Masukkan jumlah yang ingin Anda tarik: \"))\n",
        "\n",
        "            # Mengecek apakah saldo pada rekening cukup untuk penarikan\n",
        "            if jumlah_penarikan > saldo:\n",
        "                print(f\"Saldo pada rekening Anda tidak cukup! Saldo saat ini Rp {saldo}\")\n",
        "            else:\n",
        "                saldo -= jumlah_penarikan\n",
        "                print(f\"Penarikan telah berhasil! Saldo saat ini Rp {saldo}\")\n",
        "        except ValueError:\n",
        "            print(\"Masukkan jumlah penarikan yang valid.\")\n",
        "    else:\n",
        "        print(\"Akun Anda terblokir karena terlalu banyak percobaan yang salah.\")\n",
        "\n",
        "transaksi()"
      ]
    }
  ],
  "metadata": {
    "colab": {
      "provenance": []
    },
    "kernelspec": {
      "display_name": "Python 3",
      "name": "python3"
    },
    "language_info": {
      "name": "python"
    }
  },
  "nbformat": 4,
  "nbformat_minor": 0
}