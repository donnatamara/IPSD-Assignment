{
  "nbformat": 4,
  "nbformat_minor": 0,
  "metadata": {
    "colab": {
      "provenance": []
    },
    "kernelspec": {
      "name": "python3",
      "display_name": "Python 3"
    },
    "language_info": {
      "name": "python"
    }
  },
  "cells": [
    {
      "cell_type": "markdown",
      "source": [
        "###Soal 2: Membuat Fungsi dengan Syarat Spesifik"
      ],
      "metadata": {
        "id": "uKrwlNRTWM0n"
      }
    },
    {
      "cell_type": "markdown",
      "source": [
        "**Soal**: Buatlah sebuah fungsi yang menerima dua input berupa list angka. Fungsi ini harus mengembalikan sebuah list baru yang berisi elemen dari dua list input yang memiliki indeks ganjil. List baru tersebut juga harus diurutkan secara menurun berdasarkan nilai elemen."
      ],
      "metadata": {
        "id": "4jrVerQLWU6w"
      }
    },
    {
      "cell_type": "code",
      "execution_count": 1,
      "metadata": {
        "colab": {
          "base_uri": "https://localhost:8080/"
        },
        "id": "i5uJoc41TUiT",
        "outputId": "4fdeeeef-567a-4034-d018-d29d88fdb790"
      },
      "outputs": [
        {
          "output_type": "stream",
          "name": "stdout",
          "text": [
            "Elemen dengan indeks ganjil dari gabungan list: [37, 99, 70, 23, 56, 79]\n",
            "List setelah diurutkan: [99, 79, 70, 56, 37, 23]\n",
            "Hasil akhir: [99, 79, 70, 56, 37, 23]\n"
          ]
        }
      ],
      "source": [
        "def gabung_dan_urutkan_list(list1, list2):\n",
        "    gabungan_list = [listA[i] for i in range(1, len(listA), 2)] + [listB[i] for i in range(1, len(listB), 2)]\n",
        "    print(f\"Elemen dengan indeks ganjil dari gabungan list: {gabungan_list}\")\n",
        "\n",
        "    gabungan_list.sort(reverse=True)\n",
        "    print(f\"List setelah diurutkan: {gabungan_list}\")\n",
        "\n",
        "    return gabungan_list\n",
        "\n",
        "listA = [50, 37, 68, 99, 24, 70]\n",
        "listB = [9, 23, 84, 56, 31, 79]\n",
        "\n",
        "hasil = gabung_dan_urutkan_list(listA, listB)\n",
        "print(f\"Hasil akhir: {hasil}\")"
      ]
    }
  ]
}